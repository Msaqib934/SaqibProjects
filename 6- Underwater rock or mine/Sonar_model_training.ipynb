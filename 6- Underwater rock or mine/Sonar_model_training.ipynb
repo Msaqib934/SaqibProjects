{
 "cells": [
  {
   "cell_type": "markdown",
   "metadata": {},
   "source": [
    "# ASSIGNMENT:  BINARY-CLASS CLASSIFICATION :\n",
    "### SONAR- ROCK VS MINE \n",
    "<br> <br>\n",
    "\n",
    "<img src = \"https://www.researchgate.net/profile/Paven_Mathew/publication/325895659/figure/fig1/AS:716081412988932@1547738521477/Figure-Application-of-SONAR-in-ships.jpg\" width=\"200\" align=\"left\">\n",
    "\n",
    "<img src=\"https://ak.picdn.net/shutterstock/videos/3633083/thumb/1.jpg?ip=x480\" width=\"350\" >\n",
    "\n",
    "<br> \n",
    "\n",
    "###### Purpose :\n",
    "To predict the underwater **ROCK or Explosive MINE** .\n",
    "###### Description :\n",
    "The dataset contains a set of 208 records under 60 attributes - Data consist of sonar signals either bounced off a metal cylinder or bounced off a roughly cylindrical rock and Class(R - Rock , M - Mine).\n"
   ]
  },
  {
   "cell_type": "markdown",
   "metadata": {},
   "source": [
    "### STEP 1 : Load all the necessary libraries "
   ]
  },
  {
   "cell_type": "code",
   "execution_count": null,
   "metadata": {},
   "outputs": [],
   "source": [
    "<img src = \"https://www.researchgate.net/profile/Paven_Mathew/publication/325895659/figure/fig1/AS:716081412988932@1547738521477/Figure-Application-of-SONAR-in-ships.jpg\" width=\"200\">"
   ]
  },
  {
   "cell_type": "code",
   "execution_count": 4,
   "metadata": {},
   "outputs": [],
   "source": [
    "import tensorflow as tf\n",
    "import numpy as np\n",
    "import pandas as pd"
   ]
  },
  {
   "cell_type": "code",
   "execution_count": null,
   "metadata": {},
   "outputs": [],
   "source": []
  },
  {
   "cell_type": "markdown",
   "metadata": {},
   "source": [
    "### STEP 2 : Data Preparation\n",
    "This step consists of multiple sub steps from data loading [download](http://networkrepository.com/sonar.php) shuffling ,spliting in **Train** and **Test** sets with 90% - 40% ratio to one-hot-encoding on labels . \n"
   ]
  },
  {
   "cell_type": "code",
   "execution_count": 19,
   "metadata": {},
   "outputs": [],
   "source": [
    "df = pd.read_csv('sonar.csv')"
   ]
  },
  {
   "cell_type": "code",
   "execution_count": 31,
   "metadata": {},
   "outputs": [],
   "source": [
    "pd.set_option('display.max_rows',None)"
   ]
  },
  {
   "cell_type": "code",
   "execution_count": 30,
   "metadata": {},
   "outputs": [],
   "source": [
    "pd.set_option('display.max_columns',None)"
   ]
  },
  {
   "cell_type": "code",
   "execution_count": 24,
   "metadata": {},
   "outputs": [
    {
     "data": {
      "text/plain": [
       "111"
      ]
     },
     "execution_count": 24,
     "metadata": {},
     "output_type": "execute_result"
    }
   ],
   "source": [
    "len(df[df['R']=='M'])"
   ]
  },
  {
   "cell_type": "code",
   "execution_count": 25,
   "metadata": {},
   "outputs": [
    {
     "data": {
      "text/plain": [
       "96"
      ]
     },
     "execution_count": 25,
     "metadata": {},
     "output_type": "execute_result"
    }
   ],
   "source": [
    "len(df[df['R']=='R'])"
   ]
  },
  {
   "cell_type": "code",
   "execution_count": 26,
   "metadata": {},
   "outputs": [],
   "source": [
    "gf = df.sample(frac=1)"
   ]
  },
  {
   "cell_type": "code",
   "execution_count": 28,
   "metadata": {},
   "outputs": [],
   "source": [
    "sonar = gf.values"
   ]
  },
  {
   "cell_type": "code",
   "execution_count": 89,
   "metadata": {},
   "outputs": [
    {
     "data": {
      "text/plain": [
       "(125, 60)"
      ]
     },
     "execution_count": 89,
     "metadata": {},
     "output_type": "execute_result"
    }
   ],
   "source": [
    "x_train = sonar[:125,:60].astype('float')\n",
    "x_train.shape"
   ]
  },
  {
   "cell_type": "code",
   "execution_count": 68,
   "metadata": {},
   "outputs": [
    {
     "data": {
      "text/plain": [
       "125"
      ]
     },
     "execution_count": 68,
     "metadata": {},
     "output_type": "execute_result"
    }
   ],
   "source": [
    "y_train = sonar[:125,60]\n",
    "len(y_train)"
   ]
  },
  {
   "cell_type": "code",
   "execution_count": 58,
   "metadata": {},
   "outputs": [
    {
     "data": {
      "text/plain": [
       "(83, 60)"
      ]
     },
     "execution_count": 58,
     "metadata": {},
     "output_type": "execute_result"
    }
   ],
   "source": [
    "x_test = sonar[124:,:60].astype('float')\n",
    "x_test.shape"
   ]
  },
  {
   "cell_type": "code",
   "execution_count": 57,
   "metadata": {},
   "outputs": [
    {
     "data": {
      "text/plain": [
       "(83,)"
      ]
     },
     "execution_count": 57,
     "metadata": {},
     "output_type": "execute_result"
    }
   ],
   "source": [
    "y_test = sonar[124:,60]\n",
    "y_test.shape"
   ]
  },
  {
   "cell_type": "code",
   "execution_count": 76,
   "metadata": {},
   "outputs": [
    {
     "data": {
      "text/plain": [
       "array([1, 0, 0, 0, 1, 1, 0, 0, 0, 0, 1, 0, 0, 0, 1, 1, 0, 0, 1, 0, 0, 0,\n",
       "       1, 0, 1, 1, 1, 0, 1, 1, 0, 0, 1, 0, 1, 1, 0, 0, 0, 0, 1, 0, 1, 1,\n",
       "       1, 1, 0, 1, 1, 0, 1, 1, 0, 0, 0, 0, 0, 1, 0, 1, 1, 0, 1, 0, 1, 1,\n",
       "       1, 1, 1, 1, 1, 1, 1, 0, 0, 0, 0, 0, 1, 1, 0, 0, 0, 1, 1, 1, 0, 0,\n",
       "       0, 0, 1, 1, 0, 0, 1, 0, 1, 1, 0, 0, 1, 0, 1, 0, 0, 1, 0, 1, 0, 0,\n",
       "       0, 1, 1, 1, 0, 0, 1, 0, 1, 0, 0, 1, 1, 0, 0])"
      ]
     },
     "execution_count": 76,
     "metadata": {},
     "output_type": "execute_result"
    }
   ],
   "source": [
    "from sklearn.preprocessing import LabelEncoder\n",
    "le = LabelEncoder()\n",
    "encoded_y = le.fit_transform(y_train)\n",
    "encoded_y"
   ]
  },
  {
   "cell_type": "markdown",
   "metadata": {},
   "source": [
    "M - 0\n",
    " R - 1"
   ]
  },
  {
   "cell_type": "code",
   "execution_count": 78,
   "metadata": {},
   "outputs": [
    {
     "data": {
      "text/plain": [
       "array([[0., 1.],\n",
       "       [1., 0.],\n",
       "       [1., 0.],\n",
       "       [1., 0.],\n",
       "       [0., 1.],\n",
       "       [0., 1.],\n",
       "       [1., 0.],\n",
       "       [1., 0.],\n",
       "       [1., 0.],\n",
       "       [1., 0.],\n",
       "       [0., 1.],\n",
       "       [1., 0.],\n",
       "       [1., 0.],\n",
       "       [1., 0.],\n",
       "       [0., 1.],\n",
       "       [0., 1.],\n",
       "       [1., 0.],\n",
       "       [1., 0.],\n",
       "       [0., 1.],\n",
       "       [1., 0.],\n",
       "       [1., 0.],\n",
       "       [1., 0.],\n",
       "       [0., 1.],\n",
       "       [1., 0.],\n",
       "       [0., 1.],\n",
       "       [0., 1.],\n",
       "       [0., 1.],\n",
       "       [1., 0.],\n",
       "       [0., 1.],\n",
       "       [0., 1.],\n",
       "       [1., 0.],\n",
       "       [1., 0.],\n",
       "       [0., 1.],\n",
       "       [1., 0.],\n",
       "       [0., 1.],\n",
       "       [0., 1.],\n",
       "       [1., 0.],\n",
       "       [1., 0.],\n",
       "       [1., 0.],\n",
       "       [1., 0.],\n",
       "       [0., 1.],\n",
       "       [1., 0.],\n",
       "       [0., 1.],\n",
       "       [0., 1.],\n",
       "       [0., 1.],\n",
       "       [0., 1.],\n",
       "       [1., 0.],\n",
       "       [0., 1.],\n",
       "       [0., 1.],\n",
       "       [1., 0.],\n",
       "       [0., 1.],\n",
       "       [0., 1.],\n",
       "       [1., 0.],\n",
       "       [1., 0.],\n",
       "       [1., 0.],\n",
       "       [1., 0.],\n",
       "       [1., 0.],\n",
       "       [0., 1.],\n",
       "       [1., 0.],\n",
       "       [0., 1.],\n",
       "       [0., 1.],\n",
       "       [1., 0.],\n",
       "       [0., 1.],\n",
       "       [1., 0.],\n",
       "       [0., 1.],\n",
       "       [0., 1.],\n",
       "       [0., 1.],\n",
       "       [0., 1.],\n",
       "       [0., 1.],\n",
       "       [0., 1.],\n",
       "       [0., 1.],\n",
       "       [0., 1.],\n",
       "       [0., 1.],\n",
       "       [1., 0.],\n",
       "       [1., 0.],\n",
       "       [1., 0.],\n",
       "       [1., 0.],\n",
       "       [1., 0.],\n",
       "       [0., 1.],\n",
       "       [0., 1.],\n",
       "       [1., 0.],\n",
       "       [1., 0.],\n",
       "       [1., 0.],\n",
       "       [0., 1.],\n",
       "       [0., 1.],\n",
       "       [0., 1.],\n",
       "       [1., 0.],\n",
       "       [1., 0.],\n",
       "       [1., 0.],\n",
       "       [1., 0.],\n",
       "       [0., 1.],\n",
       "       [0., 1.],\n",
       "       [1., 0.],\n",
       "       [1., 0.],\n",
       "       [0., 1.],\n",
       "       [1., 0.],\n",
       "       [0., 1.],\n",
       "       [0., 1.],\n",
       "       [1., 0.],\n",
       "       [1., 0.],\n",
       "       [0., 1.],\n",
       "       [1., 0.],\n",
       "       [0., 1.],\n",
       "       [1., 0.],\n",
       "       [1., 0.],\n",
       "       [0., 1.],\n",
       "       [1., 0.],\n",
       "       [0., 1.],\n",
       "       [1., 0.],\n",
       "       [1., 0.],\n",
       "       [1., 0.],\n",
       "       [0., 1.],\n",
       "       [0., 1.],\n",
       "       [0., 1.],\n",
       "       [1., 0.],\n",
       "       [1., 0.],\n",
       "       [0., 1.],\n",
       "       [1., 0.],\n",
       "       [0., 1.],\n",
       "       [1., 0.],\n",
       "       [1., 0.],\n",
       "       [0., 1.],\n",
       "       [0., 1.],\n",
       "       [1., 0.],\n",
       "       [1., 0.]], dtype=float32)"
      ]
     },
     "execution_count": 78,
     "metadata": {},
     "output_type": "execute_result"
    }
   ],
   "source": [
    "encoded_y_train = tf.keras.utils.to_categorical(encoded_y)\n",
    "encoded_y_train"
   ]
  },
  {
   "cell_type": "code",
   "execution_count": 86,
   "metadata": {},
   "outputs": [],
   "source": [
    "encoded_y = le.fit_transform(y_test)\n",
    "encoded_y_test = tf.keras.utils.to_categorical(encoded_y)"
   ]
  },
  {
   "cell_type": "markdown",
   "metadata": {},
   "source": [
    "### STEP 3 : Model Architecture \n",
    "**Note:**\n",
    "* Select input shape , Activation Function and Output Nodes wisely."
   ]
  },
  {
   "cell_type": "code",
   "execution_count": 83,
   "metadata": {},
   "outputs": [],
   "source": [
    "from tensorflow.keras import layers\n",
    "from tensorflow.keras import models"
   ]
  },
  {
   "cell_type": "code",
   "execution_count": 234,
   "metadata": {},
   "outputs": [],
   "source": [
    "model = models.Sequential()"
   ]
  },
  {
   "cell_type": "code",
   "execution_count": 235,
   "metadata": {},
   "outputs": [],
   "source": [
    "model.add(layers.Dense(50,activation='relu',input_shape=(60,)))\n",
    "model.add(layers.Dense(40,activation='relu'))\n",
    "model.add(layers.Dense(2,activation='sigmoid'))"
   ]
  },
  {
   "cell_type": "markdown",
   "metadata": {},
   "source": [
    "### STEP 4 : Compilation Step \n",
    "\n",
    "**Note:**\n",
    "\n",
    "* Use loss function that is designed for binary classification i.e **binary_crossentropy**"
   ]
  },
  {
   "cell_type": "code",
   "execution_count": 236,
   "metadata": {},
   "outputs": [],
   "source": [
    "model.compile(optimizer='adam',loss = 'binary_crossentropy', metrics = ['accuracy'])"
   ]
  },
  {
   "cell_type": "code",
   "execution_count": 237,
   "metadata": {},
   "outputs": [
    {
     "name": "stdout",
     "output_type": "stream",
     "text": [
      "Epoch 1/101\n",
      "4/4 [==============================] - 0s 1ms/step - loss: 0.7048 - accuracy: 0.4800\n",
      "Epoch 2/101\n",
      "4/4 [==============================] - 0s 2ms/step - loss: 0.6907 - accuracy: 0.5360\n",
      "Epoch 3/101\n",
      "4/4 [==============================] - 0s 2ms/step - loss: 0.6846 - accuracy: 0.5440\n",
      "Epoch 4/101\n",
      "4/4 [==============================] - 0s 2ms/step - loss: 0.6815 - accuracy: 0.5680\n",
      "Epoch 5/101\n",
      "4/4 [==============================] - 0s 2ms/step - loss: 0.6776 - accuracy: 0.5760\n",
      "Epoch 6/101\n",
      "4/4 [==============================] - 0s 2ms/step - loss: 0.6745 - accuracy: 0.6000\n",
      "Epoch 7/101\n",
      "4/4 [==============================] - 0s 3ms/step - loss: 0.6705 - accuracy: 0.6240\n",
      "Epoch 8/101\n",
      "4/4 [==============================] - 0s 2ms/step - loss: 0.6665 - accuracy: 0.6480\n",
      "Epoch 9/101\n",
      "4/4 [==============================] - 0s 2ms/step - loss: 0.6623 - accuracy: 0.6640\n",
      "Epoch 10/101\n",
      "4/4 [==============================] - 0s 2ms/step - loss: 0.6569 - accuracy: 0.6640\n",
      "Epoch 11/101\n",
      "4/4 [==============================] - 0s 4ms/step - loss: 0.6507 - accuracy: 0.6480\n",
      "Epoch 12/101\n",
      "4/4 [==============================] - 0s 3ms/step - loss: 0.6460 - accuracy: 0.6560\n",
      "Epoch 13/101\n",
      "4/4 [==============================] - 0s 2ms/step - loss: 0.6395 - accuracy: 0.6800\n",
      "Epoch 14/101\n",
      "4/4 [==============================] - 0s 2ms/step - loss: 0.6324 - accuracy: 0.6720\n",
      "Epoch 15/101\n",
      "4/4 [==============================] - 0s 4ms/step - loss: 0.6258 - accuracy: 0.6720\n",
      "Epoch 16/101\n",
      "4/4 [==============================] - 0s 3ms/step - loss: 0.6179 - accuracy: 0.6800\n",
      "Epoch 17/101\n",
      "4/4 [==============================] - 0s 2ms/step - loss: 0.6090 - accuracy: 0.7200\n",
      "Epoch 18/101\n",
      "4/4 [==============================] - 0s 4ms/step - loss: 0.5992 - accuracy: 0.7440\n",
      "Epoch 19/101\n",
      "4/4 [==============================] - 0s 2ms/step - loss: 0.5894 - accuracy: 0.7600\n",
      "Epoch 20/101\n",
      "4/4 [==============================] - 0s 3ms/step - loss: 0.5798 - accuracy: 0.7520\n",
      "Epoch 21/101\n",
      "4/4 [==============================] - 0s 3ms/step - loss: 0.5651 - accuracy: 0.7440\n",
      "Epoch 22/101\n",
      "4/4 [==============================] - 0s 3ms/step - loss: 0.5541 - accuracy: 0.7600\n",
      "Epoch 23/101\n",
      "4/4 [==============================] - 0s 2ms/step - loss: 0.5421 - accuracy: 0.7760\n",
      "Epoch 24/101\n",
      "4/4 [==============================] - 0s 2ms/step - loss: 0.5298 - accuracy: 0.7840\n",
      "Epoch 25/101\n",
      "4/4 [==============================] - 0s 3ms/step - loss: 0.5167 - accuracy: 0.7760\n",
      "Epoch 26/101\n",
      "4/4 [==============================] - 0s 4ms/step - loss: 0.5043 - accuracy: 0.7840\n",
      "Epoch 27/101\n",
      "4/4 [==============================] - 0s 2ms/step - loss: 0.4914 - accuracy: 0.8160\n",
      "Epoch 28/101\n",
      "4/4 [==============================] - 0s 3ms/step - loss: 0.4789 - accuracy: 0.8080\n",
      "Epoch 29/101\n",
      "4/4 [==============================] - 0s 3ms/step - loss: 0.4647 - accuracy: 0.8240\n",
      "Epoch 30/101\n",
      "4/4 [==============================] - 0s 3ms/step - loss: 0.4547 - accuracy: 0.8240\n",
      "Epoch 31/101\n",
      "4/4 [==============================] - ETA: 0s - loss: 0.4158 - accuracy: 0.90 - 0s 2ms/step - loss: 0.4427 - accuracy: 0.8480\n",
      "Epoch 32/101\n",
      "4/4 [==============================] - 0s 2ms/step - loss: 0.4312 - accuracy: 0.8480\n",
      "Epoch 33/101\n",
      "4/4 [==============================] - 0s 1ms/step - loss: 0.4206 - accuracy: 0.8480\n",
      "Epoch 34/101\n",
      "4/4 [==============================] - 0s 1ms/step - loss: 0.4123 - accuracy: 0.8560\n",
      "Epoch 35/101\n",
      "4/4 [==============================] - 0s 2ms/step - loss: 0.4006 - accuracy: 0.8720\n",
      "Epoch 36/101\n",
      "4/4 [==============================] - 0s 2ms/step - loss: 0.3923 - accuracy: 0.8800\n",
      "Epoch 37/101\n",
      "4/4 [==============================] - 0s 1ms/step - loss: 0.3827 - accuracy: 0.8720\n",
      "Epoch 38/101\n",
      "4/4 [==============================] - 0s 1ms/step - loss: 0.3770 - accuracy: 0.8720\n",
      "Epoch 39/101\n",
      "4/4 [==============================] - 0s 2ms/step - loss: 0.3709 - accuracy: 0.8720\n",
      "Epoch 40/101\n",
      "4/4 [==============================] - 0s 3ms/step - loss: 0.3585 - accuracy: 0.8800\n",
      "Epoch 41/101\n",
      "4/4 [==============================] - 0s 3ms/step - loss: 0.3539 - accuracy: 0.8720\n",
      "Epoch 42/101\n",
      "4/4 [==============================] - 0s 2ms/step - loss: 0.3494 - accuracy: 0.8800\n",
      "Epoch 43/101\n",
      "4/4 [==============================] - 0s 1ms/step - loss: 0.3439 - accuracy: 0.8880\n",
      "Epoch 44/101\n",
      "4/4 [==============================] - 0s 4ms/step - loss: 0.3333 - accuracy: 0.8880\n",
      "Epoch 45/101\n",
      "4/4 [==============================] - 0s 1ms/step - loss: 0.3364 - accuracy: 0.8720\n",
      "Epoch 46/101\n",
      "4/4 [==============================] - 0s 1ms/step - loss: 0.3280 - accuracy: 0.8880\n",
      "Epoch 47/101\n",
      "4/4 [==============================] - 0s 1ms/step - loss: 0.3243 - accuracy: 0.8640\n",
      "Epoch 48/101\n",
      "4/4 [==============================] - 0s 2ms/step - loss: 0.3233 - accuracy: 0.9040\n",
      "Epoch 49/101\n",
      "4/4 [==============================] - 0s 2ms/step - loss: 0.3096 - accuracy: 0.8960\n",
      "Epoch 50/101\n",
      "4/4 [==============================] - 0s 2ms/step - loss: 0.3033 - accuracy: 0.8880\n",
      "Epoch 51/101\n",
      "4/4 [==============================] - 0s 2ms/step - loss: 0.3000 - accuracy: 0.8880\n",
      "Epoch 52/101\n",
      "4/4 [==============================] - 0s 2ms/step - loss: 0.3034 - accuracy: 0.8960\n",
      "Epoch 53/101\n",
      "4/4 [==============================] - 0s 2ms/step - loss: 0.2907 - accuracy: 0.9040\n",
      "Epoch 54/101\n",
      "4/4 [==============================] - 0s 1ms/step - loss: 0.2922 - accuracy: 0.8880\n",
      "Epoch 55/101\n",
      "4/4 [==============================] - 0s 2ms/step - loss: 0.2827 - accuracy: 0.8960\n",
      "Epoch 56/101\n",
      "4/4 [==============================] - 0s 1ms/step - loss: 0.2761 - accuracy: 0.9120\n",
      "Epoch 57/101\n",
      "4/4 [==============================] - 0s 1ms/step - loss: 0.2783 - accuracy: 0.8880\n",
      "Epoch 58/101\n",
      "4/4 [==============================] - 0s 1ms/step - loss: 0.2703 - accuracy: 0.9040\n",
      "Epoch 59/101\n",
      "4/4 [==============================] - 0s 1ms/step - loss: 0.2719 - accuracy: 0.9040\n",
      "Epoch 60/101\n",
      "4/4 [==============================] - 0s 1ms/step - loss: 0.2618 - accuracy: 0.9120\n",
      "Epoch 61/101\n",
      "4/4 [==============================] - 0s 1ms/step - loss: 0.2608 - accuracy: 0.9040\n",
      "Epoch 62/101\n",
      "4/4 [==============================] - 0s 2ms/step - loss: 0.2575 - accuracy: 0.9040\n",
      "Epoch 63/101\n",
      "4/4 [==============================] - 0s 2ms/step - loss: 0.2546 - accuracy: 0.9200\n",
      "Epoch 64/101\n",
      "4/4 [==============================] - 0s 3ms/step - loss: 0.2516 - accuracy: 0.9200\n",
      "Epoch 65/101\n",
      "4/4 [==============================] - 0s 2ms/step - loss: 0.2453 - accuracy: 0.9200\n",
      "Epoch 66/101\n",
      "4/4 [==============================] - 0s 1ms/step - loss: 0.2431 - accuracy: 0.9200\n",
      "Epoch 67/101\n",
      "4/4 [==============================] - 0s 1ms/step - loss: 0.2428 - accuracy: 0.9120\n",
      "Epoch 68/101\n",
      "4/4 [==============================] - 0s 1ms/step - loss: 0.2371 - accuracy: 0.9200\n",
      "Epoch 69/101\n",
      "4/4 [==============================] - 0s 1ms/step - loss: 0.2322 - accuracy: 0.9200\n",
      "Epoch 70/101\n",
      "4/4 [==============================] - 0s 1ms/step - loss: 0.2335 - accuracy: 0.9200\n",
      "Epoch 71/101\n",
      "4/4 [==============================] - 0s 2ms/step - loss: 0.2255 - accuracy: 0.9280\n",
      "Epoch 72/101\n",
      "4/4 [==============================] - 0s 1ms/step - loss: 0.2226 - accuracy: 0.9360\n",
      "Epoch 73/101\n",
      "4/4 [==============================] - 0s 2ms/step - loss: 0.2220 - accuracy: 0.9280\n",
      "Epoch 74/101\n",
      "4/4 [==============================] - 0s 1ms/step - loss: 0.2173 - accuracy: 0.9360\n",
      "Epoch 75/101\n",
      "4/4 [==============================] - 0s 2ms/step - loss: 0.2153 - accuracy: 0.9440\n",
      "Epoch 76/101\n",
      "4/4 [==============================] - 0s 1ms/step - loss: 0.2116 - accuracy: 0.9360\n",
      "Epoch 77/101\n",
      "4/4 [==============================] - 0s 2ms/step - loss: 0.2109 - accuracy: 0.9360\n",
      "Epoch 78/101\n",
      "4/4 [==============================] - 0s 2ms/step - loss: 0.2032 - accuracy: 0.9440\n",
      "Epoch 79/101\n",
      "4/4 [==============================] - 0s 1ms/step - loss: 0.2032 - accuracy: 0.9440\n",
      "Epoch 80/101\n",
      "4/4 [==============================] - 0s 1ms/step - loss: 0.2003 - accuracy: 0.9440\n",
      "Epoch 81/101\n",
      "4/4 [==============================] - 0s 1ms/step - loss: 0.2043 - accuracy: 0.9360\n",
      "Epoch 82/101\n",
      "4/4 [==============================] - 0s 2ms/step - loss: 0.1992 - accuracy: 0.9440\n",
      "Epoch 83/101\n",
      "4/4 [==============================] - 0s 2ms/step - loss: 0.1933 - accuracy: 0.9520\n",
      "Epoch 84/101\n"
     ]
    },
    {
     "name": "stdout",
     "output_type": "stream",
     "text": [
      "4/4 [==============================] - 0s 2ms/step - loss: 0.1901 - accuracy: 0.9600\n",
      "Epoch 85/101\n",
      "4/4 [==============================] - 0s 2ms/step - loss: 0.1871 - accuracy: 0.9520\n",
      "Epoch 86/101\n",
      "4/4 [==============================] - 0s 1ms/step - loss: 0.1858 - accuracy: 0.9520\n",
      "Epoch 87/101\n",
      "4/4 [==============================] - 0s 2ms/step - loss: 0.1807 - accuracy: 0.9600\n",
      "Epoch 88/101\n",
      "4/4 [==============================] - 0s 2ms/step - loss: 0.1803 - accuracy: 0.9600\n",
      "Epoch 89/101\n",
      "4/4 [==============================] - 0s 2ms/step - loss: 0.1802 - accuracy: 0.9600\n",
      "Epoch 90/101\n",
      "4/4 [==============================] - 0s 1ms/step - loss: 0.1816 - accuracy: 0.9520\n",
      "Epoch 91/101\n",
      "4/4 [==============================] - 0s 1ms/step - loss: 0.1715 - accuracy: 0.9600\n",
      "Epoch 92/101\n",
      "4/4 [==============================] - 0s 1ms/step - loss: 0.1750 - accuracy: 0.9600\n",
      "Epoch 93/101\n",
      "4/4 [==============================] - 0s 2ms/step - loss: 0.1674 - accuracy: 0.9680\n",
      "Epoch 94/101\n",
      "4/4 [==============================] - 0s 1ms/step - loss: 0.1742 - accuracy: 0.9440\n",
      "Epoch 95/101\n",
      "4/4 [==============================] - 0s 1ms/step - loss: 0.1625 - accuracy: 0.9600\n",
      "Epoch 96/101\n",
      "4/4 [==============================] - 0s 1ms/step - loss: 0.1636 - accuracy: 0.9600\n",
      "Epoch 97/101\n",
      "4/4 [==============================] - 0s 1ms/step - loss: 0.1583 - accuracy: 0.9600\n",
      "Epoch 98/101\n",
      "4/4 [==============================] - 0s 2ms/step - loss: 0.1582 - accuracy: 0.9520\n",
      "Epoch 99/101\n",
      "4/4 [==============================] - 0s 1ms/step - loss: 0.1560 - accuracy: 0.9680\n",
      "Epoch 100/101\n",
      "4/4 [==============================] - 0s 1ms/step - loss: 0.1511 - accuracy: 0.9680\n",
      "Epoch 101/101\n",
      "4/4 [==============================] - 0s 2ms/step - loss: 0.1511 - accuracy: 0.9600\n"
     ]
    },
    {
     "data": {
      "text/plain": [
       "<tensorflow.python.keras.callbacks.History at 0x1d40c5fac18>"
      ]
     },
     "execution_count": 237,
     "metadata": {},
     "output_type": "execute_result"
    }
   ],
   "source": [
    "model.fit(x_train,encoded_y_train,epochs=101)"
   ]
  },
  {
   "cell_type": "markdown",
   "metadata": {},
   "source": [
    "### STEP 5 : Evaluation "
   ]
  },
  {
   "cell_type": "code",
   "execution_count": 238,
   "metadata": {},
   "outputs": [
    {
     "name": "stdout",
     "output_type": "stream",
     "text": [
      "1/3 [=========>....................] - ETA: 0s - loss: 0.4844 - accuracy: 0.9062WARNING:tensorflow:Callbacks method `on_test_batch_end` is slow compared to the batch time (batch time: 0.0000s vs `on_test_batch_end` time: 0.0010s). Check your callbacks.\n",
      "3/3 [==============================] - 0s 2ms/step - loss: 0.5085 - accuracy: 0.8072\n"
     ]
    },
    {
     "data": {
      "text/plain": [
       "[0.5085119009017944, 0.8072289228439331]"
      ]
     },
     "execution_count": 238,
     "metadata": {},
     "output_type": "execute_result"
    }
   ],
   "source": [
    "model.evaluate(x_test,encoded_y_test)"
   ]
  },
  {
   "cell_type": "markdown",
   "metadata": {},
   "source": [
    "### STEP 6 : Prediction "
   ]
  },
  {
   "cell_type": "code",
   "execution_count": 294,
   "metadata": {},
   "outputs": [],
   "source": [
    "i = 80\n",
    "predict = model.predict(x_test[i].reshape(1,60))"
   ]
  },
  {
   "cell_type": "code",
   "execution_count": 295,
   "metadata": {},
   "outputs": [
    {
     "data": {
      "text/plain": [
       "array([[0.4887347 , 0.51253605]], dtype=float32)"
      ]
     },
     "execution_count": 295,
     "metadata": {},
     "output_type": "execute_result"
    }
   ],
   "source": [
    "predict"
   ]
  },
  {
   "cell_type": "code",
   "execution_count": 296,
   "metadata": {},
   "outputs": [
    {
     "name": "stdout",
     "output_type": "stream",
     "text": [
      "R\n"
     ]
    }
   ],
   "source": [
    "count = 0\n",
    "if predict[0][1] > 0.50:\n",
    "    print(\"R\")\n",
    "    count +=1\n",
    "else:\n",
    "    print('M')"
   ]
  },
  {
   "cell_type": "code",
   "execution_count": 298,
   "metadata": {},
   "outputs": [
    {
     "name": "stdout",
     "output_type": "stream",
     "text": [
      "actual data= [2.010e-02 1.160e-02 1.230e-02 2.450e-02 5.470e-02 2.080e-02 8.910e-02\n",
      " 8.360e-02 1.335e-01 1.199e-01 1.742e-01 1.387e-01 2.042e-01 2.580e-01\n",
      " 2.616e-01 2.097e-01 2.532e-01 3.213e-01 4.327e-01 4.760e-01 5.328e-01\n",
      " 6.057e-01 6.696e-01 7.476e-01 8.930e-01 9.405e-01 1.000e+00 9.785e-01\n",
      " 8.473e-01 7.639e-01 6.701e-01 4.989e-01 3.718e-01 2.196e-01 1.416e-01\n",
      " 2.680e-01 2.630e-01 3.104e-01 3.392e-01 2.123e-01 1.170e-01 2.655e-01\n",
      " 2.203e-01 1.541e-01 1.464e-01 1.044e-01 1.225e-01 7.450e-02 4.900e-02\n",
      " 2.240e-02 3.200e-03 7.600e-03 4.500e-03 5.600e-03 7.500e-03 3.700e-03\n",
      " 4.500e-03 2.900e-03 8.000e-04 1.800e-03] actual label is  R\n",
      "the is data [2.010e-02 1.160e-02 1.230e-02 2.450e-02 5.470e-02 2.080e-02 8.910e-02\n",
      " 8.360e-02 1.335e-01 1.199e-01 1.742e-01 1.387e-01 2.042e-01 2.580e-01\n",
      " 2.616e-01 2.097e-01 2.532e-01 3.213e-01 4.327e-01 4.760e-01 5.328e-01\n",
      " 6.057e-01 6.696e-01 7.476e-01 8.930e-01 9.405e-01 1.000e+00 9.785e-01\n",
      " 8.473e-01 7.639e-01 6.701e-01 4.989e-01 3.718e-01 2.196e-01 1.416e-01\n",
      " 2.680e-01 2.630e-01 3.104e-01 3.392e-01 2.123e-01 1.170e-01 2.655e-01\n",
      " 2.203e-01 1.541e-01 1.464e-01 1.044e-01 1.225e-01 7.450e-02 4.900e-02\n",
      " 2.240e-02 3.200e-03 7.600e-03 4.500e-03 5.600e-03 7.500e-03 3.700e-03\n",
      " 4.500e-03 2.900e-03 8.000e-04 1.800e-03] predicted is R\n"
     ]
    }
   ],
   "source": [
    "print(\"actual data=\",x_test[i],\"actual label is \",y_test[i])\n",
    "print(\"the is data\",x_test[i],\"predicted is\",'R' if predict[0][1] > 0.50 else 'M' )"
   ]
  },
  {
   "cell_type": "code",
   "execution_count": null,
   "metadata": {},
   "outputs": [],
   "source": []
  }
 ],
 "metadata": {
  "kernelspec": {
   "display_name": "Python 3",
   "language": "python",
   "name": "python3"
  },
  "language_info": {
   "codemirror_mode": {
    "name": "ipython",
    "version": 3
   },
   "file_extension": ".py",
   "mimetype": "text/x-python",
   "name": "python",
   "nbconvert_exporter": "python",
   "pygments_lexer": "ipython3",
   "version": "3.7.3"
  }
 },
 "nbformat": 4,
 "nbformat_minor": 2
}
