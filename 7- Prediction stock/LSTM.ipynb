{
 "cells": [
  {
   "cell_type": "code",
   "execution_count": 1,
   "id": "433ed512",
   "metadata": {},
   "outputs": [],
   "source": [
    "import tensorflow as tf\n",
    "import pandas as pd\n",
    "import numpy as np\n",
    "import pandas_datareader as pdr\n",
    "import matplotlib.pyplot as plt\n",
    "from sklearn.preprocessing import MinMaxScaler\n",
    "from sklearn.model_selection import TimeSeriesSplit"
   ]
  },
  {
   "cell_type": "code",
   "execution_count": 2,
   "id": "7f50a98e",
   "metadata": {},
   "outputs": [],
   "source": [
    "df1 = pd.read_excel('ready.xlsx')"
   ]
  },
  {
   "cell_type": "code",
   "execution_count": 3,
   "id": "79a1db12",
   "metadata": {},
   "outputs": [
    {
     "data": {
      "text/html": [
       "<div>\n",
       "<style scoped>\n",
       "    .dataframe tbody tr th:only-of-type {\n",
       "        vertical-align: middle;\n",
       "    }\n",
       "\n",
       "    .dataframe tbody tr th {\n",
       "        vertical-align: top;\n",
       "    }\n",
       "\n",
       "    .dataframe thead th {\n",
       "        text-align: right;\n",
       "    }\n",
       "</style>\n",
       "<table border=\"1\" class=\"dataframe\">\n",
       "  <thead>\n",
       "    <tr style=\"text-align: right;\">\n",
       "      <th></th>\n",
       "      <th>Date</th>\n",
       "      <th>Net Value</th>\n",
       "    </tr>\n",
       "  </thead>\n",
       "  <tbody>\n",
       "    <tr>\n",
       "      <th>0</th>\n",
       "      <td>2019-04-01</td>\n",
       "      <td>11487893.35</td>\n",
       "    </tr>\n",
       "    <tr>\n",
       "      <th>1</th>\n",
       "      <td>2019-04-02</td>\n",
       "      <td>9567508.93</td>\n",
       "    </tr>\n",
       "    <tr>\n",
       "      <th>2</th>\n",
       "      <td>2019-04-03</td>\n",
       "      <td>26359676.20</td>\n",
       "    </tr>\n",
       "    <tr>\n",
       "      <th>3</th>\n",
       "      <td>2019-04-04</td>\n",
       "      <td>23734777.87</td>\n",
       "    </tr>\n",
       "    <tr>\n",
       "      <th>4</th>\n",
       "      <td>2019-04-05</td>\n",
       "      <td>24207945.14</td>\n",
       "    </tr>\n",
       "  </tbody>\n",
       "</table>\n",
       "</div>"
      ],
      "text/plain": [
       "        Date    Net Value\n",
       "0 2019-04-01  11487893.35\n",
       "1 2019-04-02   9567508.93\n",
       "2 2019-04-03  26359676.20\n",
       "3 2019-04-04  23734777.87\n",
       "4 2019-04-05  24207945.14"
      ]
     },
     "execution_count": 3,
     "metadata": {},
     "output_type": "execute_result"
    }
   ],
   "source": [
    "df1.head()"
   ]
  },
  {
   "cell_type": "code",
   "execution_count": 4,
   "id": "7313b98e",
   "metadata": {},
   "outputs": [
    {
     "data": {
      "text/plain": [
       "(271,)"
      ]
     },
     "execution_count": 4,
     "metadata": {},
     "output_type": "execute_result"
    }
   ],
   "source": [
    "df1 = df1.reset_index()['Net Value']\n",
    "df1.shape"
   ]
  },
  {
   "cell_type": "code",
   "execution_count": 5,
   "id": "a294f6e9",
   "metadata": {},
   "outputs": [
    {
     "data": {
      "text/plain": [
       "[<matplotlib.lines.Line2D at 0x27588e62c70>]"
      ]
     },
     "execution_count": 5,
     "metadata": {},
     "output_type": "execute_result"
    },
    {
     "data": {
      "image/png": "[encoded data removed]",
      "text/plain": [
       "<Figure size 432x288 with 1 Axes>"
      ]
     },
     "metadata": {
      "needs_background": "light"
     },
     "output_type": "display_data"
    }
   ],
   "source": [
    "plt.plot(df1)"
   ]
  },
  {
   "cell_type": "code",
   "execution_count": 6,
   "id": "e13bd757",
   "metadata": {},
   "outputs": [],
   "source": [
    "scaler = MinMaxScaler(feature_range=(0,1))\n",
    "df1 = scaler.fit_transform(np.array(df1).reshape(-1,1))"
   ]
  },
  {
   "cell_type": "code",
   "execution_count": 7,
   "id": "deb33f86",
   "metadata": {},
   "outputs": [],
   "source": [
    "training_size=int(len(df1)*0.65)\n",
    "test_size=len(df1)-training_size\n",
    "train_data,test_data=df1[0:training_size],df1[training_size:len(df1)]"
   ]
  },
  {
   "cell_type": "code",
   "execution_count": 8,
   "id": "66f78ef5",
   "metadata": {},
   "outputs": [
    {
     "data": {
      "text/plain": [
       "176"
      ]
     },
     "execution_count": 8,
     "metadata": {},
     "output_type": "execute_result"
    }
   ],
   "source": [
    "len(train_data)"
   ]
  },
  {
   "cell_type": "code",
   "execution_count": 9,
   "id": "3b9ab833",
   "metadata": {},
   "outputs": [
    {
     "data": {
      "text/plain": [
       "95"
      ]
     },
     "execution_count": 9,
     "metadata": {},
     "output_type": "execute_result"
    }
   ],
   "source": [
    "len(test_data)"
   ]
  },
  {
   "cell_type": "code",
   "execution_count": 10,
   "id": "6ec6cd41",
   "metadata": {},
   "outputs": [],
   "source": [
    "# convert an array of values into a dataset matrix\n",
    "def create_dataset(dataset, time_step=1):\n",
    "    dataX, dataY = [], []\n",
    "    for i in range(len(dataset)-time_step-1):\n",
    "        a = dataset[i:(i+time_step), 0]   ###i=0, 0,1,2,3-----99   100 \n",
    "        dataX.append(a)\n",
    "        dataY.append(dataset[i + time_step, 0])\n",
    "    return np.array(dataX), np.array(dataY)"
   ]
  },
  {
   "cell_type": "code",
   "execution_count": 11,
   "id": "f48676a6",
   "metadata": {},
   "outputs": [],
   "source": [
    "# reshape into X=t,t+1,t+2,t+3 and Y=t+4\n",
    "time_step = 50\n",
    "X_train, y_train = create_dataset(train_data, time_step)\n",
    "X_test, ytest = create_dataset(test_data, time_step)"
   ]
  },
  {
   "cell_type": "code",
   "execution_count": 12,
   "id": "aa407566",
   "metadata": {},
   "outputs": [
    {
     "name": "stdout",
     "output_type": "stream",
     "text": [
      "(125, 50)\n",
      "(125,)\n",
      "(44, 50)\n",
      "(44,)\n"
     ]
    },
    {
     "data": {
      "text/plain": [
       "(None, None)"
      ]
     },
     "execution_count": 12,
     "metadata": {},
     "output_type": "execute_result"
    }
   ],
   "source": [
    "print(X_train.shape), print(y_train.shape)\n",
    "print(X_test.shape), print(ytest.shape)"
   ]
  },
  {
   "cell_type": "code",
   "execution_count": 13,
   "id": "e8fdda54",
   "metadata": {},
   "outputs": [],
   "source": [
    "# reshape input to be [samples, time steps, features] which is required for LSTM (3dimension)\n",
    "X_train =X_train.reshape(X_train.shape[0],X_train.shape[1] , 1) \n",
    "X_test = X_test.reshape(X_test.shape[0],X_test.shape[1] , 1)"
   ]
  },
  {
   "cell_type": "code",
   "execution_count": 14,
   "id": "5e4be54e",
   "metadata": {},
   "outputs": [],
   "source": [
    "### Create the Stacked LSTM model\n",
    "from tensorflow.keras.models import Sequential\n",
    "from tensorflow.keras.layers import Dense\n",
    "from tensorflow.keras.layers import LSTM\n",
    "from keras.callbacks import EarlyStopping"
   ]
  },
  {
   "cell_type": "code",
   "execution_count": 15,
   "id": "f444fd0f",
   "metadata": {},
   "outputs": [],
   "source": [
    "model=Sequential()\n",
    "model.add(LSTM(30,return_sequences=True,input_shape=(50,1)))\n",
    "#model.add(LSTM(100,return_sequences=True))\n",
    "model.add(LSTM(10))\n",
    "model.add(Dense(1))\n",
    "model.compile(loss='mean_squared_error',optimizer='adam')"
   ]
  },
  {
   "cell_type": "code",
   "execution_count": 16,
   "id": "93164c3e",
   "metadata": {},
   "outputs": [
    {
     "name": "stdout",
     "output_type": "stream",
     "text": [
      "Model: \"sequential\"\n",
      "_________________________________________________________________\n",
      " Layer (type)                Output Shape              Param #   \n",
      "=================================================================\n",
      " lstm (LSTM)                 (None, 50, 30)            3840      \n",
      "                                                                 \n",
      " lstm_1 (LSTM)               (None, 10)                1640      \n",
      "                                                                 \n",
      " dense (Dense)               (None, 1)                 11        \n",
      "                                                                 \n",
      "=================================================================\n",
      "Total params: 5,491\n",
      "Trainable params: 5,491\n",
      "Non-trainable params: 0\n",
      "_________________________________________________________________\n",
      "None\n"
     ]
    }
   ],
   "source": [
    "print(model.summary())"
   ]
  },
  {
   "cell_type": "code",
   "execution_count": 17,
   "id": "2ba6b53e",
   "metadata": {},
   "outputs": [
    {
     "name": "stdout",
     "output_type": "stream",
     "text": [
      "Epoch 1/30\n",
      "3/3 [==============================] - 5s 561ms/step - loss: 0.0669 - val_loss: 0.0625\n",
      "Epoch 2/30\n",
      "3/3 [==============================] - 0s 58ms/step - loss: 0.0504 - val_loss: 0.0466\n",
      "Epoch 3/30\n",
      "3/3 [==============================] - 0s 57ms/step - loss: 0.0371 - val_loss: 0.0349\n",
      "Epoch 4/30\n",
      "3/3 [==============================] - 0s 57ms/step - loss: 0.0293 - val_loss: 0.0287\n",
      "Epoch 5/30\n",
      "3/3 [==============================] - 0s 58ms/step - loss: 0.0282 - val_loss: 0.0286\n",
      "Epoch 6/30\n",
      "3/3 [==============================] - 0s 56ms/step - loss: 0.0291 - val_loss: 0.0287\n",
      "Epoch 7/30\n",
      "3/3 [==============================] - 0s 57ms/step - loss: 0.0285 - val_loss: 0.0282\n",
      "Epoch 8/30\n",
      "3/3 [==============================] - 0s 58ms/step - loss: 0.0272 - val_loss: 0.0281\n",
      "Epoch 9/30\n",
      "3/3 [==============================] - 0s 58ms/step - loss: 0.0262 - val_loss: 0.0284\n",
      "Epoch 10/30\n",
      "3/3 [==============================] - 0s 57ms/step - loss: 0.0259 - val_loss: 0.0289\n",
      "Epoch 11/30\n",
      "3/3 [==============================] - 0s 57ms/step - loss: 0.0257 - val_loss: 0.0292\n",
      "Epoch 12/30\n",
      "3/3 [==============================] - 0s 58ms/step - loss: 0.0256 - val_loss: 0.0293\n",
      "Epoch 13/30\n",
      "3/3 [==============================] - 0s 59ms/step - loss: 0.0255 - val_loss: 0.0291\n",
      "Epoch 14/30\n",
      "3/3 [==============================] - 0s 58ms/step - loss: 0.0252 - val_loss: 0.0289\n",
      "Epoch 15/30\n",
      "3/3 [==============================] - 0s 59ms/step - loss: 0.0249 - val_loss: 0.0286\n",
      "Epoch 16/30\n",
      "3/3 [==============================] - 0s 59ms/step - loss: 0.0246 - val_loss: 0.0282\n",
      "Epoch 17/30\n",
      "3/3 [==============================] - 0s 62ms/step - loss: 0.0245 - val_loss: 0.0280\n",
      "Epoch 18/30\n",
      "3/3 [==============================] - 0s 57ms/step - loss: 0.0244 - val_loss: 0.0280\n",
      "Epoch 19/30\n",
      "3/3 [==============================] - 0s 56ms/step - loss: 0.0244 - val_loss: 0.0279\n",
      "Epoch 20/30\n",
      "3/3 [==============================] - 0s 57ms/step - loss: 0.0242 - val_loss: 0.0280\n",
      "Epoch 21/30\n",
      "3/3 [==============================] - 0s 59ms/step - loss: 0.0240 - val_loss: 0.0281\n",
      "Epoch 22/30\n",
      "3/3 [==============================] - 0s 56ms/step - loss: 0.0237 - val_loss: 0.0283\n",
      "Epoch 23/30\n",
      "3/3 [==============================] - 0s 56ms/step - loss: 0.0235 - val_loss: 0.0284\n",
      "Epoch 24/30\n",
      "3/3 [==============================] - 0s 58ms/step - loss: 0.0233 - val_loss: 0.0284\n",
      "Epoch 25/30\n",
      "3/3 [==============================] - 0s 58ms/step - loss: 0.0232 - val_loss: 0.0285\n",
      "Epoch 26/30\n",
      "3/3 [==============================] - 0s 58ms/step - loss: 0.0229 - val_loss: 0.0283\n",
      "Epoch 27/30\n",
      "3/3 [==============================] - 0s 62ms/step - loss: 0.0227 - val_loss: 0.0281\n",
      "Epoch 28/30\n",
      "3/3 [==============================] - 0s 59ms/step - loss: 0.0226 - val_loss: 0.0280\n",
      "Epoch 29/30\n",
      "3/3 [==============================] - 0s 61ms/step - loss: 0.0225 - val_loss: 0.0279\n",
      "Epoch 30/30\n",
      "3/3 [==============================] - 0s 61ms/step - loss: 0.0223 - val_loss: 0.0280\n"
     ]
    }
   ],
   "source": [
    "early_stopping_monitor = EarlyStopping(monitor='loss',patience=3)\n",
    "history = model.fit(X_train,y_train,validation_data=(X_test,ytest),epochs=30,batch_size=50,verbose=1,callbacks=[early_stopping_monitor])"
   ]
  },
  {
   "cell_type": "code",
   "execution_count": 18,
   "id": "92fec4d3",
   "metadata": {},
   "outputs": [
    {
     "name": "stdout",
     "output_type": "stream",
     "text": [
      "dict_keys(['loss', 'val_loss'])\n"
     ]
    }
   ],
   "source": [
    "print(history.history.keys())"
   ]
  },
  {
   "cell_type": "code",
   "execution_count": 19,
   "id": "5baae172",
   "metadata": {},
   "outputs": [],
   "source": [
    "from keras import backend as K\n",
    "import tensorflow.compat.v1 as tf\n",
    "\n",
    "curr_session = tf.get_default_session()\n",
    "# close current session\n",
    "if curr_session is not None:\n",
    "    curr_session.close()\n",
    "# reset graph\n",
    "K.clear_session()\n",
    "# create new session\n",
    "s = tf.InteractiveSession()\n",
    "K.set_session(s)"
   ]
  },
  {
   "cell_type": "code",
   "execution_count": 20,
   "id": "6818a32f",
   "metadata": {},
   "outputs": [
    {
     "data": {
      "image/png": "[encoded data removed]",
      "text/plain": [
       "<Figure size 432x288 with 1 Axes>"
      ]
     },
     "metadata": {
      "needs_background": "light"
     },
     "output_type": "display_data"
    }
   ],
   "source": [
    "# Plot train vs test accuracy per epoch\n",
    "plt.figure()\n",
    "# Use the history metrics\n",
    "plt.plot(history.history['loss'])\n",
    "plt.plot(history.history['val_loss'])\n",
    "# Make it pretty\n",
    "plt.title('Model Loss')\n",
    "plt.ylabel('Loss')\n",
    "plt.xlabel('Epoch')\n",
    "plt.legend(['Train', 'Test'])\n",
    "plt.show()"
   ]
  },
  {
   "cell_type": "code",
   "execution_count": 21,
   "id": "52a64537",
   "metadata": {},
   "outputs": [],
   "source": [
    "### Lets Do the prediction and check performance metrics\n",
    "train_predict=model.predict(X_train)\n",
    "test_predict=model.predict(X_test)"
   ]
  },
  {
   "cell_type": "code",
   "execution_count": 22,
   "id": "d2651b56",
   "metadata": {},
   "outputs": [],
   "source": [
    "##Transformback to original form\n",
    "train_predict=scaler.inverse_transform(train_predict)\n",
    "test_predict=scaler.inverse_transform(test_predict)"
   ]
  },
  {
   "cell_type": "code",
   "execution_count": 23,
   "id": "a54a19a8",
   "metadata": {},
   "outputs": [
    {
     "data": {
      "text/plain": [
       "25389970.795636974"
      ]
     },
     "execution_count": 23,
     "metadata": {},
     "output_type": "execute_result"
    }
   ],
   "source": [
    "### Calculate RMSE performance metrics\n",
    "import math\n",
    "from sklearn.metrics import mean_squared_error\n",
    "math.sqrt(mean_squared_error(y_train,train_predict))"
   ]
  },
  {
   "cell_type": "code",
   "execution_count": 24,
   "id": "173f1a61",
   "metadata": {},
   "outputs": [
    {
     "data": {
      "text/plain": [
       "24983282.09585338"
      ]
     },
     "execution_count": 24,
     "metadata": {},
     "output_type": "execute_result"
    }
   ],
   "source": [
    "### Test Data RMSE\n",
    "math.sqrt(mean_squared_error(ytest,test_predict))"
   ]
  },
  {
   "cell_type": "code",
   "execution_count": 25,
   "id": "86d07e3a",
   "metadata": {},
   "outputs": [
    {
     "data": {
      "image/png": "[encoded data removed]",
      "text/plain": [
       "<Figure size 432x288 with 1 Axes>"
      ]
     },
     "metadata": {
      "needs_background": "light"
     },
     "output_type": "display_data"
    }
   ],
   "source": [
    "### Plotting \n",
    "# shift train predictions for plotting\n",
    "look_back=50\n",
    "trainPredictPlot = np.empty_like(df1)\n",
    "trainPredictPlot[:, :] = np.nan\n",
    "trainPredictPlot[look_back:len(train_predict)+look_back, :] = train_predict\n",
    "# shift test predictions for plotting\n",
    "testPredictPlot = np.empty_like(df1)\n",
    "testPredictPlot[:, :] = np.nan\n",
    "testPredictPlot[len(train_predict)+(look_back*2)+1:len(df1)-1, :] = test_predict\n",
    "# plot baseline and predictions\n",
    "plt.plot(scaler.inverse_transform(df1))\n",
    "plt.plot(trainPredictPlot)\n",
    "plt.plot(testPredictPlot)\n",
    "plt.show()"
   ]
  },
  {
   "cell_type": "code",
   "execution_count": 26,
   "id": "a24fb0d6",
   "metadata": {},
   "outputs": [
    {
     "data": {
      "text/plain": [
       "95"
      ]
     },
     "execution_count": 26,
     "metadata": {},
     "output_type": "execute_result"
    }
   ],
   "source": [
    "len(test_data)"
   ]
  },
  {
   "cell_type": "code",
   "execution_count": 27,
   "id": "4e089e6c",
   "metadata": {},
   "outputs": [
    {
     "data": {
      "text/plain": [
       "(1, 50)"
      ]
     },
     "execution_count": 27,
     "metadata": {},
     "output_type": "execute_result"
    }
   ],
   "source": [
    "x_input=test_data[45:].reshape(1,-1)\n",
    "x_input.shape"
   ]
  },
  {
   "cell_type": "code",
   "execution_count": 28,
   "id": "f9357d46",
   "metadata": {},
   "outputs": [],
   "source": [
    "temp_input=list(x_input)\n",
    "temp_input=temp_input[0].tolist()"
   ]
  },
  {
   "cell_type": "code",
   "execution_count": 29,
   "id": "25ef63c5",
   "metadata": {},
   "outputs": [
    {
     "name": "stdout",
     "output_type": "stream",
     "text": [
      "[0.24289405]\n",
      "51\n",
      "1 day input [7.58532346e-02 6.39521181e-02 7.25150720e-02 8.32632933e-02\n",
      " 8.16481886e-02 8.31325076e-02 1.41871799e-01 6.29774984e-02\n",
      " 1.26705887e-01 1.12552203e-01 1.37852749e-01 1.07948711e-01\n",
      " 1.89979222e-01 3.73223581e-03 1.79687566e-01 3.27634022e-01\n",
      " 3.91234384e-01 2.64350794e-01 1.34585116e-01 5.38009961e-02\n",
      " 1.95686958e-01 3.32833741e-01 3.09361135e-01 4.39040318e-01\n",
      " 9.25772929e-01 2.97818064e-02 2.94505182e-02 1.18902990e-01\n",
      " 7.74595440e-02 1.32180219e-01 9.59159124e-02 2.11647897e-01\n",
      " 1.43736020e-01 1.72048149e-01 1.67862677e-01 1.49108413e-01\n",
      " 2.46300615e-01 1.76063401e-01 2.34415682e-01 1.84377710e-01\n",
      " 2.17146924e-01 3.95291232e-02 1.69550776e-01 1.96973521e-01\n",
      " 3.65765388e-01 3.84466025e-01 5.38523628e-01 4.94989116e-01\n",
      " 1.44361596e-06 2.42894053e-01]\n",
      "1 day output [[0.24227911]]\n",
      "2 day input [6.39521181e-02 7.25150720e-02 8.32632933e-02 8.16481886e-02\n",
      " 8.31325076e-02 1.41871799e-01 6.29774984e-02 1.26705887e-01\n",
      " 1.12552203e-01 1.37852749e-01 1.07948711e-01 1.89979222e-01\n",
      " 3.73223581e-03 1.79687566e-01 3.27634022e-01 3.91234384e-01\n",
      " 2.64350794e-01 1.34585116e-01 5.38009961e-02 1.95686958e-01\n",
      " 3.32833741e-01 3.09361135e-01 4.39040318e-01 9.25772929e-01\n",
      " 2.97818064e-02 2.94505182e-02 1.18902990e-01 7.74595440e-02\n",
      " 1.32180219e-01 9.59159124e-02 2.11647897e-01 1.43736020e-01\n",
      " 1.72048149e-01 1.67862677e-01 1.49108413e-01 2.46300615e-01\n",
      " 1.76063401e-01 2.34415682e-01 1.84377710e-01 2.17146924e-01\n",
      " 3.95291232e-02 1.69550776e-01 1.96973521e-01 3.65765388e-01\n",
      " 3.84466025e-01 5.38523628e-01 4.94989116e-01 1.44361596e-06\n",
      " 2.42894053e-01 2.42279112e-01]\n",
      "2 day output [[0.2401335]]\n",
      "3 day input [7.25150720e-02 8.32632933e-02 8.16481886e-02 8.31325076e-02\n",
      " 1.41871799e-01 6.29774984e-02 1.26705887e-01 1.12552203e-01\n",
      " 1.37852749e-01 1.07948711e-01 1.89979222e-01 3.73223581e-03\n",
      " 1.79687566e-01 3.27634022e-01 3.91234384e-01 2.64350794e-01\n",
      " 1.34585116e-01 5.38009961e-02 1.95686958e-01 3.32833741e-01\n",
      " 3.09361135e-01 4.39040318e-01 9.25772929e-01 2.97818064e-02\n",
      " 2.94505182e-02 1.18902990e-01 7.74595440e-02 1.32180219e-01\n",
      " 9.59159124e-02 2.11647897e-01 1.43736020e-01 1.72048149e-01\n",
      " 1.67862677e-01 1.49108413e-01 2.46300615e-01 1.76063401e-01\n",
      " 2.34415682e-01 1.84377710e-01 2.17146924e-01 3.95291232e-02\n",
      " 1.69550776e-01 1.96973521e-01 3.65765388e-01 3.84466025e-01\n",
      " 5.38523628e-01 4.94989116e-01 1.44361596e-06 2.42894053e-01\n",
      " 2.42279112e-01 2.40133494e-01]\n",
      "3 day output [[0.2371679]]\n",
      "4 day input [8.32632933e-02 8.16481886e-02 8.31325076e-02 1.41871799e-01\n",
      " 6.29774984e-02 1.26705887e-01 1.12552203e-01 1.37852749e-01\n",
      " 1.07948711e-01 1.89979222e-01 3.73223581e-03 1.79687566e-01\n",
      " 3.27634022e-01 3.91234384e-01 2.64350794e-01 1.34585116e-01\n",
      " 5.38009961e-02 1.95686958e-01 3.32833741e-01 3.09361135e-01\n",
      " 4.39040318e-01 9.25772929e-01 2.97818064e-02 2.94505182e-02\n",
      " 1.18902990e-01 7.74595440e-02 1.32180219e-01 9.59159124e-02\n",
      " 2.11647897e-01 1.43736020e-01 1.72048149e-01 1.67862677e-01\n",
      " 1.49108413e-01 2.46300615e-01 1.76063401e-01 2.34415682e-01\n",
      " 1.84377710e-01 2.17146924e-01 3.95291232e-02 1.69550776e-01\n",
      " 1.96973521e-01 3.65765388e-01 3.84466025e-01 5.38523628e-01\n",
      " 4.94989116e-01 1.44361596e-06 2.42894053e-01 2.42279112e-01\n",
      " 2.40133494e-01 2.37167895e-01]\n",
      "4 day output [[0.23384362]]\n",
      "5 day input [8.16481886e-02 8.31325076e-02 1.41871799e-01 6.29774984e-02\n",
      " 1.26705887e-01 1.12552203e-01 1.37852749e-01 1.07948711e-01\n",
      " 1.89979222e-01 3.73223581e-03 1.79687566e-01 3.27634022e-01\n",
      " 3.91234384e-01 2.64350794e-01 1.34585116e-01 5.38009961e-02\n",
      " 1.95686958e-01 3.32833741e-01 3.09361135e-01 4.39040318e-01\n",
      " 9.25772929e-01 2.97818064e-02 2.94505182e-02 1.18902990e-01\n",
      " 7.74595440e-02 1.32180219e-01 9.59159124e-02 2.11647897e-01\n",
      " 1.43736020e-01 1.72048149e-01 1.67862677e-01 1.49108413e-01\n",
      " 2.46300615e-01 1.76063401e-01 2.34415682e-01 1.84377710e-01\n",
      " 2.17146924e-01 3.95291232e-02 1.69550776e-01 1.96973521e-01\n",
      " 3.65765388e-01 3.84466025e-01 5.38523628e-01 4.94989116e-01\n",
      " 1.44361596e-06 2.42894053e-01 2.42279112e-01 2.40133494e-01\n",
      " 2.37167895e-01 2.33843625e-01]\n",
      "5 day output [[0.23044452]]\n",
      "6 day input [8.31325076e-02 1.41871799e-01 6.29774984e-02 1.26705887e-01\n",
      " 1.12552203e-01 1.37852749e-01 1.07948711e-01 1.89979222e-01\n",
      " 3.73223581e-03 1.79687566e-01 3.27634022e-01 3.91234384e-01\n",
      " 2.64350794e-01 1.34585116e-01 5.38009961e-02 1.95686958e-01\n",
      " 3.32833741e-01 3.09361135e-01 4.39040318e-01 9.25772929e-01\n",
      " 2.97818064e-02 2.94505182e-02 1.18902990e-01 7.74595440e-02\n",
      " 1.32180219e-01 9.59159124e-02 2.11647897e-01 1.43736020e-01\n",
      " 1.72048149e-01 1.67862677e-01 1.49108413e-01 2.46300615e-01\n",
      " 1.76063401e-01 2.34415682e-01 1.84377710e-01 2.17146924e-01\n",
      " 3.95291232e-02 1.69550776e-01 1.96973521e-01 3.65765388e-01\n",
      " 3.84466025e-01 5.38523628e-01 4.94989116e-01 1.44361596e-06\n",
      " 2.42894053e-01 2.42279112e-01 2.40133494e-01 2.37167895e-01\n",
      " 2.33843625e-01 2.30444521e-01]\n",
      "6 day output [[0.22713894]]\n",
      "7 day input [1.41871799e-01 6.29774984e-02 1.26705887e-01 1.12552203e-01\n",
      " 1.37852749e-01 1.07948711e-01 1.89979222e-01 3.73223581e-03\n",
      " 1.79687566e-01 3.27634022e-01 3.91234384e-01 2.64350794e-01\n",
      " 1.34585116e-01 5.38009961e-02 1.95686958e-01 3.32833741e-01\n",
      " 3.09361135e-01 4.39040318e-01 9.25772929e-01 2.97818064e-02\n",
      " 2.94505182e-02 1.18902990e-01 7.74595440e-02 1.32180219e-01\n",
      " 9.59159124e-02 2.11647897e-01 1.43736020e-01 1.72048149e-01\n",
      " 1.67862677e-01 1.49108413e-01 2.46300615e-01 1.76063401e-01\n",
      " 2.34415682e-01 1.84377710e-01 2.17146924e-01 3.95291232e-02\n",
      " 1.69550776e-01 1.96973521e-01 3.65765388e-01 3.84466025e-01\n",
      " 5.38523628e-01 4.94989116e-01 1.44361596e-06 2.42894053e-01\n",
      " 2.42279112e-01 2.40133494e-01 2.37167895e-01 2.33843625e-01\n",
      " 2.30444521e-01 2.27138937e-01]\n",
      "7 day output [[0.2240215]]\n",
      "8 day input [6.29774984e-02 1.26705887e-01 1.12552203e-01 1.37852749e-01\n",
      " 1.07948711e-01 1.89979222e-01 3.73223581e-03 1.79687566e-01\n",
      " 3.27634022e-01 3.91234384e-01 2.64350794e-01 1.34585116e-01\n",
      " 5.38009961e-02 1.95686958e-01 3.32833741e-01 3.09361135e-01\n",
      " 4.39040318e-01 9.25772929e-01 2.97818064e-02 2.94505182e-02\n",
      " 1.18902990e-01 7.74595440e-02 1.32180219e-01 9.59159124e-02\n",
      " 2.11647897e-01 1.43736020e-01 1.72048149e-01 1.67862677e-01\n",
      " 1.49108413e-01 2.46300615e-01 1.76063401e-01 2.34415682e-01\n",
      " 1.84377710e-01 2.17146924e-01 3.95291232e-02 1.69550776e-01\n",
      " 1.96973521e-01 3.65765388e-01 3.84466025e-01 5.38523628e-01\n",
      " 4.94989116e-01 1.44361596e-06 2.42894053e-01 2.42279112e-01\n",
      " 2.40133494e-01 2.37167895e-01 2.33843625e-01 2.30444521e-01\n",
      " 2.27138937e-01 2.24021494e-01]\n",
      "8 day output [[0.22114]]\n",
      "9 day input [1.26705887e-01 1.12552203e-01 1.37852749e-01 1.07948711e-01\n",
      " 1.89979222e-01 3.73223581e-03 1.79687566e-01 3.27634022e-01\n",
      " 3.91234384e-01 2.64350794e-01 1.34585116e-01 5.38009961e-02\n",
      " 1.95686958e-01 3.32833741e-01 3.09361135e-01 4.39040318e-01\n",
      " 9.25772929e-01 2.97818064e-02 2.94505182e-02 1.18902990e-01\n",
      " 7.74595440e-02 1.32180219e-01 9.59159124e-02 2.11647897e-01\n",
      " 1.43736020e-01 1.72048149e-01 1.67862677e-01 1.49108413e-01\n",
      " 2.46300615e-01 1.76063401e-01 2.34415682e-01 1.84377710e-01\n",
      " 2.17146924e-01 3.95291232e-02 1.69550776e-01 1.96973521e-01\n",
      " 3.65765388e-01 3.84466025e-01 5.38523628e-01 4.94989116e-01\n",
      " 1.44361596e-06 2.42894053e-01 2.42279112e-01 2.40133494e-01\n",
      " 2.37167895e-01 2.33843625e-01 2.30444521e-01 2.27138937e-01\n",
      " 2.24021494e-01 2.21139997e-01]\n",
      "9 day output [[0.21851417]]\n",
      "10 day input [1.12552203e-01 1.37852749e-01 1.07948711e-01 1.89979222e-01\n",
      " 3.73223581e-03 1.79687566e-01 3.27634022e-01 3.91234384e-01\n",
      " 2.64350794e-01 1.34585116e-01 5.38009961e-02 1.95686958e-01\n",
      " 3.32833741e-01 3.09361135e-01 4.39040318e-01 9.25772929e-01\n",
      " 2.97818064e-02 2.94505182e-02 1.18902990e-01 7.74595440e-02\n",
      " 1.32180219e-01 9.59159124e-02 2.11647897e-01 1.43736020e-01\n",
      " 1.72048149e-01 1.67862677e-01 1.49108413e-01 2.46300615e-01\n",
      " 1.76063401e-01 2.34415682e-01 1.84377710e-01 2.17146924e-01\n",
      " 3.95291232e-02 1.69550776e-01 1.96973521e-01 3.65765388e-01\n",
      " 3.84466025e-01 5.38523628e-01 4.94989116e-01 1.44361596e-06\n",
      " 2.42894053e-01 2.42279112e-01 2.40133494e-01 2.37167895e-01\n",
      " 2.33843625e-01 2.30444521e-01 2.27138937e-01 2.24021494e-01\n",
      " 2.21139997e-01 2.18514174e-01]\n",
      "10 day output [[0.21614447]]\n",
      "11 day input [1.37852749e-01 1.07948711e-01 1.89979222e-01 3.73223581e-03\n",
      " 1.79687566e-01 3.27634022e-01 3.91234384e-01 2.64350794e-01\n",
      " 1.34585116e-01 5.38009961e-02 1.95686958e-01 3.32833741e-01\n",
      " 3.09361135e-01 4.39040318e-01 9.25772929e-01 2.97818064e-02\n",
      " 2.94505182e-02 1.18902990e-01 7.74595440e-02 1.32180219e-01\n",
      " 9.59159124e-02 2.11647897e-01 1.43736020e-01 1.72048149e-01\n",
      " 1.67862677e-01 1.49108413e-01 2.46300615e-01 1.76063401e-01\n",
      " 2.34415682e-01 1.84377710e-01 2.17146924e-01 3.95291232e-02\n",
      " 1.69550776e-01 1.96973521e-01 3.65765388e-01 3.84466025e-01\n",
      " 5.38523628e-01 4.94989116e-01 1.44361596e-06 2.42894053e-01\n",
      " 2.42279112e-01 2.40133494e-01 2.37167895e-01 2.33843625e-01\n",
      " 2.30444521e-01 2.27138937e-01 2.24021494e-01 2.21139997e-01\n",
      " 2.18514174e-01 2.16144472e-01]\n",
      "11 day output [[0.21402192]]\n",
      "12 day input [1.07948711e-01 1.89979222e-01 3.73223581e-03 1.79687566e-01\n",
      " 3.27634022e-01 3.91234384e-01 2.64350794e-01 1.34585116e-01\n",
      " 5.38009961e-02 1.95686958e-01 3.32833741e-01 3.09361135e-01\n",
      " 4.39040318e-01 9.25772929e-01 2.97818064e-02 2.94505182e-02\n",
      " 1.18902990e-01 7.74595440e-02 1.32180219e-01 9.59159124e-02\n",
      " 2.11647897e-01 1.43736020e-01 1.72048149e-01 1.67862677e-01\n",
      " 1.49108413e-01 2.46300615e-01 1.76063401e-01 2.34415682e-01\n",
      " 1.84377710e-01 2.17146924e-01 3.95291232e-02 1.69550776e-01\n",
      " 1.96973521e-01 3.65765388e-01 3.84466025e-01 5.38523628e-01\n",
      " 4.94989116e-01 1.44361596e-06 2.42894053e-01 2.42279112e-01\n",
      " 2.40133494e-01 2.37167895e-01 2.33843625e-01 2.30444521e-01\n",
      " 2.27138937e-01 2.24021494e-01 2.21139997e-01 2.18514174e-01\n",
      " 2.16144472e-01 2.14021921e-01]\n"
     ]
    },
    {
     "name": "stdout",
     "output_type": "stream",
     "text": [
      "12 day output [[0.21213084]]\n",
      "13 day input [1.89979222e-01 3.73223581e-03 1.79687566e-01 3.27634022e-01\n",
      " 3.91234384e-01 2.64350794e-01 1.34585116e-01 5.38009961e-02\n",
      " 1.95686958e-01 3.32833741e-01 3.09361135e-01 4.39040318e-01\n",
      " 9.25772929e-01 2.97818064e-02 2.94505182e-02 1.18902990e-01\n",
      " 7.74595440e-02 1.32180219e-01 9.59159124e-02 2.11647897e-01\n",
      " 1.43736020e-01 1.72048149e-01 1.67862677e-01 1.49108413e-01\n",
      " 2.46300615e-01 1.76063401e-01 2.34415682e-01 1.84377710e-01\n",
      " 2.17146924e-01 3.95291232e-02 1.69550776e-01 1.96973521e-01\n",
      " 3.65765388e-01 3.84466025e-01 5.38523628e-01 4.94989116e-01\n",
      " 1.44361596e-06 2.42894053e-01 2.42279112e-01 2.40133494e-01\n",
      " 2.37167895e-01 2.33843625e-01 2.30444521e-01 2.27138937e-01\n",
      " 2.24021494e-01 2.21139997e-01 2.18514174e-01 2.16144472e-01\n",
      " 2.14021921e-01 2.12130845e-01]\n",
      "13 day output [[0.210453]]\n",
      "14 day input [3.73223581e-03 1.79687566e-01 3.27634022e-01 3.91234384e-01\n",
      " 2.64350794e-01 1.34585116e-01 5.38009961e-02 1.95686958e-01\n",
      " 3.32833741e-01 3.09361135e-01 4.39040318e-01 9.25772929e-01\n",
      " 2.97818064e-02 2.94505182e-02 1.18902990e-01 7.74595440e-02\n",
      " 1.32180219e-01 9.59159124e-02 2.11647897e-01 1.43736020e-01\n",
      " 1.72048149e-01 1.67862677e-01 1.49108413e-01 2.46300615e-01\n",
      " 1.76063401e-01 2.34415682e-01 1.84377710e-01 2.17146924e-01\n",
      " 3.95291232e-02 1.69550776e-01 1.96973521e-01 3.65765388e-01\n",
      " 3.84466025e-01 5.38523628e-01 4.94989116e-01 1.44361596e-06\n",
      " 2.42894053e-01 2.42279112e-01 2.40133494e-01 2.37167895e-01\n",
      " 2.33843625e-01 2.30444521e-01 2.27138937e-01 2.24021494e-01\n",
      " 2.21139997e-01 2.18514174e-01 2.16144472e-01 2.14021921e-01\n",
      " 2.12130845e-01 2.10453004e-01]\n",
      "14 day output [[0.2089681]]\n",
      "15 day input [1.79687566e-01 3.27634022e-01 3.91234384e-01 2.64350794e-01\n",
      " 1.34585116e-01 5.38009961e-02 1.95686958e-01 3.32833741e-01\n",
      " 3.09361135e-01 4.39040318e-01 9.25772929e-01 2.97818064e-02\n",
      " 2.94505182e-02 1.18902990e-01 7.74595440e-02 1.32180219e-01\n",
      " 9.59159124e-02 2.11647897e-01 1.43736020e-01 1.72048149e-01\n",
      " 1.67862677e-01 1.49108413e-01 2.46300615e-01 1.76063401e-01\n",
      " 2.34415682e-01 1.84377710e-01 2.17146924e-01 3.95291232e-02\n",
      " 1.69550776e-01 1.96973521e-01 3.65765388e-01 3.84466025e-01\n",
      " 5.38523628e-01 4.94989116e-01 1.44361596e-06 2.42894053e-01\n",
      " 2.42279112e-01 2.40133494e-01 2.37167895e-01 2.33843625e-01\n",
      " 2.30444521e-01 2.27138937e-01 2.24021494e-01 2.21139997e-01\n",
      " 2.18514174e-01 2.16144472e-01 2.14021921e-01 2.12130845e-01\n",
      " 2.10453004e-01 2.08968103e-01]\n",
      "15 day output [[0.20765764]]\n",
      "16 day input [3.27634022e-01 3.91234384e-01 2.64350794e-01 1.34585116e-01\n",
      " 5.38009961e-02 1.95686958e-01 3.32833741e-01 3.09361135e-01\n",
      " 4.39040318e-01 9.25772929e-01 2.97818064e-02 2.94505182e-02\n",
      " 1.18902990e-01 7.74595440e-02 1.32180219e-01 9.59159124e-02\n",
      " 2.11647897e-01 1.43736020e-01 1.72048149e-01 1.67862677e-01\n",
      " 1.49108413e-01 2.46300615e-01 1.76063401e-01 2.34415682e-01\n",
      " 1.84377710e-01 2.17146924e-01 3.95291232e-02 1.69550776e-01\n",
      " 1.96973521e-01 3.65765388e-01 3.84466025e-01 5.38523628e-01\n",
      " 4.94989116e-01 1.44361596e-06 2.42894053e-01 2.42279112e-01\n",
      " 2.40133494e-01 2.37167895e-01 2.33843625e-01 2.30444521e-01\n",
      " 2.27138937e-01 2.24021494e-01 2.21139997e-01 2.18514174e-01\n",
      " 2.16144472e-01 2.14021921e-01 2.12130845e-01 2.10453004e-01\n",
      " 2.08968103e-01 2.07657635e-01]\n",
      "16 day output [[0.20650107]]\n",
      "17 day input [3.91234384e-01 2.64350794e-01 1.34585116e-01 5.38009961e-02\n",
      " 1.95686958e-01 3.32833741e-01 3.09361135e-01 4.39040318e-01\n",
      " 9.25772929e-01 2.97818064e-02 2.94505182e-02 1.18902990e-01\n",
      " 7.74595440e-02 1.32180219e-01 9.59159124e-02 2.11647897e-01\n",
      " 1.43736020e-01 1.72048149e-01 1.67862677e-01 1.49108413e-01\n",
      " 2.46300615e-01 1.76063401e-01 2.34415682e-01 1.84377710e-01\n",
      " 2.17146924e-01 3.95291232e-02 1.69550776e-01 1.96973521e-01\n",
      " 3.65765388e-01 3.84466025e-01 5.38523628e-01 4.94989116e-01\n",
      " 1.44361596e-06 2.42894053e-01 2.42279112e-01 2.40133494e-01\n",
      " 2.37167895e-01 2.33843625e-01 2.30444521e-01 2.27138937e-01\n",
      " 2.24021494e-01 2.21139997e-01 2.18514174e-01 2.16144472e-01\n",
      " 2.14021921e-01 2.12130845e-01 2.10453004e-01 2.08968103e-01\n",
      " 2.07657635e-01 2.06501067e-01]\n",
      "17 day output [[0.205481]]\n",
      "18 day input [2.64350794e-01 1.34585116e-01 5.38009961e-02 1.95686958e-01\n",
      " 3.32833741e-01 3.09361135e-01 4.39040318e-01 9.25772929e-01\n",
      " 2.97818064e-02 2.94505182e-02 1.18902990e-01 7.74595440e-02\n",
      " 1.32180219e-01 9.59159124e-02 2.11647897e-01 1.43736020e-01\n",
      " 1.72048149e-01 1.67862677e-01 1.49108413e-01 2.46300615e-01\n",
      " 1.76063401e-01 2.34415682e-01 1.84377710e-01 2.17146924e-01\n",
      " 3.95291232e-02 1.69550776e-01 1.96973521e-01 3.65765388e-01\n",
      " 3.84466025e-01 5.38523628e-01 4.94989116e-01 1.44361596e-06\n",
      " 2.42894053e-01 2.42279112e-01 2.40133494e-01 2.37167895e-01\n",
      " 2.33843625e-01 2.30444521e-01 2.27138937e-01 2.24021494e-01\n",
      " 2.21139997e-01 2.18514174e-01 2.16144472e-01 2.14021921e-01\n",
      " 2.12130845e-01 2.10453004e-01 2.08968103e-01 2.07657635e-01\n",
      " 2.06501067e-01 2.05480993e-01]\n",
      "18 day output [[0.20458147]]\n",
      "19 day input [1.34585116e-01 5.38009961e-02 1.95686958e-01 3.32833741e-01\n",
      " 3.09361135e-01 4.39040318e-01 9.25772929e-01 2.97818064e-02\n",
      " 2.94505182e-02 1.18902990e-01 7.74595440e-02 1.32180219e-01\n",
      " 9.59159124e-02 2.11647897e-01 1.43736020e-01 1.72048149e-01\n",
      " 1.67862677e-01 1.49108413e-01 2.46300615e-01 1.76063401e-01\n",
      " 2.34415682e-01 1.84377710e-01 2.17146924e-01 3.95291232e-02\n",
      " 1.69550776e-01 1.96973521e-01 3.65765388e-01 3.84466025e-01\n",
      " 5.38523628e-01 4.94989116e-01 1.44361596e-06 2.42894053e-01\n",
      " 2.42279112e-01 2.40133494e-01 2.37167895e-01 2.33843625e-01\n",
      " 2.30444521e-01 2.27138937e-01 2.24021494e-01 2.21139997e-01\n",
      " 2.18514174e-01 2.16144472e-01 2.14021921e-01 2.12130845e-01\n",
      " 2.10453004e-01 2.08968103e-01 2.07657635e-01 2.06501067e-01\n",
      " 2.05480993e-01 2.04581469e-01]\n",
      "19 day output [[0.20378861]]\n",
      "20 day input [5.38009961e-02 1.95686958e-01 3.32833741e-01 3.09361135e-01\n",
      " 4.39040318e-01 9.25772929e-01 2.97818064e-02 2.94505182e-02\n",
      " 1.18902990e-01 7.74595440e-02 1.32180219e-01 9.59159124e-02\n",
      " 2.11647897e-01 1.43736020e-01 1.72048149e-01 1.67862677e-01\n",
      " 1.49108413e-01 2.46300615e-01 1.76063401e-01 2.34415682e-01\n",
      " 1.84377710e-01 2.17146924e-01 3.95291232e-02 1.69550776e-01\n",
      " 1.96973521e-01 3.65765388e-01 3.84466025e-01 5.38523628e-01\n",
      " 4.94989116e-01 1.44361596e-06 2.42894053e-01 2.42279112e-01\n",
      " 2.40133494e-01 2.37167895e-01 2.33843625e-01 2.30444521e-01\n",
      " 2.27138937e-01 2.24021494e-01 2.21139997e-01 2.18514174e-01\n",
      " 2.16144472e-01 2.14021921e-01 2.12130845e-01 2.10453004e-01\n",
      " 2.08968103e-01 2.07657635e-01 2.06501067e-01 2.05480993e-01\n",
      " 2.04581469e-01 2.03788608e-01]\n",
      "20 day output [[0.20308906]]\n",
      "21 day input [1.95686958e-01 3.32833741e-01 3.09361135e-01 4.39040318e-01\n",
      " 9.25772929e-01 2.97818064e-02 2.94505182e-02 1.18902990e-01\n",
      " 7.74595440e-02 1.32180219e-01 9.59159124e-02 2.11647897e-01\n",
      " 1.43736020e-01 1.72048149e-01 1.67862677e-01 1.49108413e-01\n",
      " 2.46300615e-01 1.76063401e-01 2.34415682e-01 1.84377710e-01\n",
      " 2.17146924e-01 3.95291232e-02 1.69550776e-01 1.96973521e-01\n",
      " 3.65765388e-01 3.84466025e-01 5.38523628e-01 4.94989116e-01\n",
      " 1.44361596e-06 2.42894053e-01 2.42279112e-01 2.40133494e-01\n",
      " 2.37167895e-01 2.33843625e-01 2.30444521e-01 2.27138937e-01\n",
      " 2.24021494e-01 2.21139997e-01 2.18514174e-01 2.16144472e-01\n",
      " 2.14021921e-01 2.12130845e-01 2.10453004e-01 2.08968103e-01\n",
      " 2.07657635e-01 2.06501067e-01 2.05480993e-01 2.04581469e-01\n",
      " 2.03788608e-01 2.03089058e-01]\n",
      "21 day output [[0.20247099]]\n",
      "22 day input [3.32833741e-01 3.09361135e-01 4.39040318e-01 9.25772929e-01\n",
      " 2.97818064e-02 2.94505182e-02 1.18902990e-01 7.74595440e-02\n",
      " 1.32180219e-01 9.59159124e-02 2.11647897e-01 1.43736020e-01\n",
      " 1.72048149e-01 1.67862677e-01 1.49108413e-01 2.46300615e-01\n",
      " 1.76063401e-01 2.34415682e-01 1.84377710e-01 2.17146924e-01\n",
      " 3.95291232e-02 1.69550776e-01 1.96973521e-01 3.65765388e-01\n",
      " 3.84466025e-01 5.38523628e-01 4.94989116e-01 1.44361596e-06\n",
      " 2.42894053e-01 2.42279112e-01 2.40133494e-01 2.37167895e-01\n",
      " 2.33843625e-01 2.30444521e-01 2.27138937e-01 2.24021494e-01\n",
      " 2.21139997e-01 2.18514174e-01 2.16144472e-01 2.14021921e-01\n",
      " 2.12130845e-01 2.10453004e-01 2.08968103e-01 2.07657635e-01\n",
      " 2.06501067e-01 2.05480993e-01 2.04581469e-01 2.03788608e-01\n",
      " 2.03089058e-01 2.02470988e-01]\n",
      "22 day output [[0.20192331]]\n",
      "23 day input [3.09361135e-01 4.39040318e-01 9.25772929e-01 2.97818064e-02\n",
      " 2.94505182e-02 1.18902990e-01 7.74595440e-02 1.32180219e-01\n",
      " 9.59159124e-02 2.11647897e-01 1.43736020e-01 1.72048149e-01\n",
      " 1.67862677e-01 1.49108413e-01 2.46300615e-01 1.76063401e-01\n",
      " 2.34415682e-01 1.84377710e-01 2.17146924e-01 3.95291232e-02\n",
      " 1.69550776e-01 1.96973521e-01 3.65765388e-01 3.84466025e-01\n",
      " 5.38523628e-01 4.94989116e-01 1.44361596e-06 2.42894053e-01\n",
      " 2.42279112e-01 2.40133494e-01 2.37167895e-01 2.33843625e-01\n",
      " 2.30444521e-01 2.27138937e-01 2.24021494e-01 2.21139997e-01\n",
      " 2.18514174e-01 2.16144472e-01 2.14021921e-01 2.12130845e-01\n",
      " 2.10453004e-01 2.08968103e-01 2.07657635e-01 2.06501067e-01\n",
      " 2.05480993e-01 2.04581469e-01 2.03788608e-01 2.03089058e-01\n",
      " 2.02470988e-01 2.01923311e-01]\n",
      "23 day output [[0.2014373]]\n",
      "24 day input [4.39040318e-01 9.25772929e-01 2.97818064e-02 2.94505182e-02\n",
      " 1.18902990e-01 7.74595440e-02 1.32180219e-01 9.59159124e-02\n",
      " 2.11647897e-01 1.43736020e-01 1.72048149e-01 1.67862677e-01\n",
      " 1.49108413e-01 2.46300615e-01 1.76063401e-01 2.34415682e-01\n",
      " 1.84377710e-01 2.17146924e-01 3.95291232e-02 1.69550776e-01\n",
      " 1.96973521e-01 3.65765388e-01 3.84466025e-01 5.38523628e-01\n",
      " 4.94989116e-01 1.44361596e-06 2.42894053e-01 2.42279112e-01\n",
      " 2.40133494e-01 2.37167895e-01 2.33843625e-01 2.30444521e-01\n",
      " 2.27138937e-01 2.24021494e-01 2.21139997e-01 2.18514174e-01\n",
      " 2.16144472e-01 2.14021921e-01 2.12130845e-01 2.10453004e-01\n",
      " 2.08968103e-01 2.07657635e-01 2.06501067e-01 2.05480993e-01\n",
      " 2.04581469e-01 2.03788608e-01 2.03089058e-01 2.02470988e-01\n",
      " 2.01923311e-01 2.01437294e-01]\n",
      "24 day output [[0.2010057]]\n",
      "25 day input [9.25772929e-01 2.97818064e-02 2.94505182e-02 1.18902990e-01\n",
      " 7.74595440e-02 1.32180219e-01 9.59159124e-02 2.11647897e-01\n",
      " 1.43736020e-01 1.72048149e-01 1.67862677e-01 1.49108413e-01\n",
      " 2.46300615e-01 1.76063401e-01 2.34415682e-01 1.84377710e-01\n",
      " 2.17146924e-01 3.95291232e-02 1.69550776e-01 1.96973521e-01\n",
      " 3.65765388e-01 3.84466025e-01 5.38523628e-01 4.94989116e-01\n",
      " 1.44361596e-06 2.42894053e-01 2.42279112e-01 2.40133494e-01\n",
      " 2.37167895e-01 2.33843625e-01 2.30444521e-01 2.27138937e-01\n",
      " 2.24021494e-01 2.21139997e-01 2.18514174e-01 2.16144472e-01\n",
      " 2.14021921e-01 2.12130845e-01 2.10453004e-01 2.08968103e-01\n",
      " 2.07657635e-01 2.06501067e-01 2.05480993e-01 2.04581469e-01\n",
      " 2.03788608e-01 2.03089058e-01 2.02470988e-01 2.01923311e-01\n",
      " 2.01437294e-01 2.01005697e-01]\n",
      "25 day output [[0.20062113]]\n",
      "26 day input [2.97818064e-02 2.94505182e-02 1.18902990e-01 7.74595440e-02\n",
      " 1.32180219e-01 9.59159124e-02 2.11647897e-01 1.43736020e-01\n",
      " 1.72048149e-01 1.67862677e-01 1.49108413e-01 2.46300615e-01\n",
      " 1.76063401e-01 2.34415682e-01 1.84377710e-01 2.17146924e-01\n",
      " 3.95291232e-02 1.69550776e-01 1.96973521e-01 3.65765388e-01\n",
      " 3.84466025e-01 5.38523628e-01 4.94989116e-01 1.44361596e-06\n",
      " 2.42894053e-01 2.42279112e-01 2.40133494e-01 2.37167895e-01\n",
      " 2.33843625e-01 2.30444521e-01 2.27138937e-01 2.24021494e-01\n",
      " 2.21139997e-01 2.18514174e-01 2.16144472e-01 2.14021921e-01\n",
      " 2.12130845e-01 2.10453004e-01 2.08968103e-01 2.07657635e-01\n",
      " 2.06501067e-01 2.05480993e-01 2.04581469e-01 2.03788608e-01\n",
      " 2.03089058e-01 2.02470988e-01 2.01923311e-01 2.01437294e-01\n",
      " 2.01005697e-01 2.00621128e-01]\n"
     ]
    },
    {
     "name": "stdout",
     "output_type": "stream",
     "text": [
      "26 day output [[0.2002762]]\n",
      "27 day input [2.94505182e-02 1.18902990e-01 7.74595440e-02 1.32180219e-01\n",
      " 9.59159124e-02 2.11647897e-01 1.43736020e-01 1.72048149e-01\n",
      " 1.67862677e-01 1.49108413e-01 2.46300615e-01 1.76063401e-01\n",
      " 2.34415682e-01 1.84377710e-01 2.17146924e-01 3.95291232e-02\n",
      " 1.69550776e-01 1.96973521e-01 3.65765388e-01 3.84466025e-01\n",
      " 5.38523628e-01 4.94989116e-01 1.44361596e-06 2.42894053e-01\n",
      " 2.42279112e-01 2.40133494e-01 2.37167895e-01 2.33843625e-01\n",
      " 2.30444521e-01 2.27138937e-01 2.24021494e-01 2.21139997e-01\n",
      " 2.18514174e-01 2.16144472e-01 2.14021921e-01 2.12130845e-01\n",
      " 2.10453004e-01 2.08968103e-01 2.07657635e-01 2.06501067e-01\n",
      " 2.05480993e-01 2.04581469e-01 2.03788608e-01 2.03089058e-01\n",
      " 2.02470988e-01 2.01923311e-01 2.01437294e-01 2.01005697e-01\n",
      " 2.00621128e-01 2.00276196e-01]\n",
      "27 day output [[0.19997224]]\n",
      "28 day input [1.18902990e-01 7.74595440e-02 1.32180219e-01 9.59159124e-02\n",
      " 2.11647897e-01 1.43736020e-01 1.72048149e-01 1.67862677e-01\n",
      " 1.49108413e-01 2.46300615e-01 1.76063401e-01 2.34415682e-01\n",
      " 1.84377710e-01 2.17146924e-01 3.95291232e-02 1.69550776e-01\n",
      " 1.96973521e-01 3.65765388e-01 3.84466025e-01 5.38523628e-01\n",
      " 4.94989116e-01 1.44361596e-06 2.42894053e-01 2.42279112e-01\n",
      " 2.40133494e-01 2.37167895e-01 2.33843625e-01 2.30444521e-01\n",
      " 2.27138937e-01 2.24021494e-01 2.21139997e-01 2.18514174e-01\n",
      " 2.16144472e-01 2.14021921e-01 2.12130845e-01 2.10453004e-01\n",
      " 2.08968103e-01 2.07657635e-01 2.06501067e-01 2.05480993e-01\n",
      " 2.04581469e-01 2.03788608e-01 2.03089058e-01 2.02470988e-01\n",
      " 2.01923311e-01 2.01437294e-01 2.01005697e-01 2.00621128e-01\n",
      " 2.00276196e-01 1.99972242e-01]\n",
      "28 day output [[0.19970009]]\n",
      "29 day input [7.74595440e-02 1.32180219e-01 9.59159124e-02 2.11647897e-01\n",
      " 1.43736020e-01 1.72048149e-01 1.67862677e-01 1.49108413e-01\n",
      " 2.46300615e-01 1.76063401e-01 2.34415682e-01 1.84377710e-01\n",
      " 2.17146924e-01 3.95291232e-02 1.69550776e-01 1.96973521e-01\n",
      " 3.65765388e-01 3.84466025e-01 5.38523628e-01 4.94989116e-01\n",
      " 1.44361596e-06 2.42894053e-01 2.42279112e-01 2.40133494e-01\n",
      " 2.37167895e-01 2.33843625e-01 2.30444521e-01 2.27138937e-01\n",
      " 2.24021494e-01 2.21139997e-01 2.18514174e-01 2.16144472e-01\n",
      " 2.14021921e-01 2.12130845e-01 2.10453004e-01 2.08968103e-01\n",
      " 2.07657635e-01 2.06501067e-01 2.05480993e-01 2.04581469e-01\n",
      " 2.03788608e-01 2.03089058e-01 2.02470988e-01 2.01923311e-01\n",
      " 2.01437294e-01 2.01005697e-01 2.00621128e-01 2.00276196e-01\n",
      " 1.99972242e-01 1.99700087e-01]\n",
      "29 day output [[0.19945574]]\n",
      "[[0.24289405345916748], [0.24227911233901978], [0.24013349413871765], [0.23716789484024048], [0.2338436245918274], [0.2304445207118988], [0.2271389365196228], [0.22402149438858032], [0.22113999724388123], [0.21851417422294617], [0.21614447236061096], [0.21402192115783691], [0.2121308445930481], [0.21045300364494324], [0.20896810293197632], [0.20765763521194458], [0.2065010666847229], [0.20548099279403687], [0.20458146929740906], [0.2037886083126068], [0.20308905839920044], [0.20247098803520203], [0.20192331075668335], [0.20143729448318481], [0.2010056972503662], [0.2006211280822754], [0.2002761960029602], [0.1999722421169281], [0.19970008730888367], [0.19945573806762695]]\n"
     ]
    }
   ],
   "source": [
    "# demonstrate prediction for next 10 days\n",
    "from numpy import array\n",
    "\n",
    "lst_output=[]\n",
    "n_steps=50\n",
    "i=0\n",
    "while(i<30):\n",
    "    if(len(temp_input)>50):\n",
    "        #print(temp_input)\n",
    "        x_input=np.array(temp_input[1:])\n",
    "        print(\"{} day input {}\".format(i,x_input))\n",
    "        x_input=x_input.reshape(1,-1)\n",
    "        x_input = x_input.reshape((1, n_steps, 1))\n",
    "        #print(x_input)\n",
    "        yhat = model.predict(x_input, verbose=0)\n",
    "        print(\"{} day output {}\".format(i,yhat))\n",
    "        temp_input.extend(yhat[0].tolist())\n",
    "        temp_input=temp_input[1:]\n",
    "        #print(temp_input)\n",
    "        lst_output.extend(yhat.tolist())\n",
    "        i=i+1\n",
    "    else:\n",
    "        x_input = x_input.reshape((1, n_steps,1))\n",
    "        yhat = model.predict(x_input, verbose=0)\n",
    "        print(yhat[0])\n",
    "        temp_input.extend(yhat[0].tolist())\n",
    "        print(len(temp_input))\n",
    "        lst_output.extend(yhat.tolist())\n",
    "        i=i+1\n",
    "    \n",
    "\n",
    "print(lst_output)"
   ]
  },
  {
   "cell_type": "code",
   "execution_count": 30,
   "id": "24074fa8",
   "metadata": {},
   "outputs": [],
   "source": [
    "day_new=np.arange(1,51)\n",
    "day_pred=np.arange(51,81)"
   ]
  },
  {
   "cell_type": "code",
   "execution_count": 31,
   "id": "ffa0e146",
   "metadata": {},
   "outputs": [
    {
     "data": {
      "text/plain": [
       "221"
      ]
     },
     "execution_count": 31,
     "metadata": {},
     "output_type": "execute_result"
    }
   ],
   "source": [
    "len(df1)-50"
   ]
  },
  {
   "cell_type": "code",
   "execution_count": 32,
   "id": "4ee43a12",
   "metadata": {},
   "outputs": [
    {
     "data": {
      "text/plain": [
       "[<matplotlib.lines.Line2D at 0x275912dd310>]"
      ]
     },
     "execution_count": 32,
     "metadata": {},
     "output_type": "execute_result"
    },
    {
     "data": {
      "image/png": "[encoded data removed]",
      "text/plain": [
       "<Figure size 432x288 with 1 Axes>"
      ]
     },
     "metadata": {
      "needs_background": "light"
     },
     "output_type": "display_data"
    }
   ],
   "source": [
    "plt.plot(day_new,scaler.inverse_transform(df1[221:]))\n",
    "plt.plot(day_pred,scaler.inverse_transform(lst_output))"
   ]
  },
  {
   "cell_type": "code",
   "execution_count": 33,
   "id": "5946ae49",
   "metadata": {},
   "outputs": [
    {
     "data": {
      "text/plain": [
       "[<matplotlib.lines.Line2D at 0x275914014c0>]"
      ]
     },
     "execution_count": 33,
     "metadata": {},
     "output_type": "execute_result"
    },
    {
     "data": {
      "image/png": "[encoded data removed]",
      "text/plain": [
       "<Figure size 432x288 with 1 Axes>"
      ]
     },
     "metadata": {
      "needs_background": "light"
     },
     "output_type": "display_data"
    }
   ],
   "source": [
    "df3=df1.tolist()\n",
    "df3.extend(lst_output)\n",
    "plt.plot(df3[100:])"
   ]
  },
  {
   "cell_type": "code",
   "execution_count": 34,
   "id": "592cd01f",
   "metadata": {},
   "outputs": [],
   "source": [
    "df3=scaler.inverse_transform(df3).tolist()"
   ]
  },
  {
   "cell_type": "code",
   "execution_count": 35,
   "id": "1aa68aa8",
   "metadata": {},
   "outputs": [
    {
     "data": {
      "text/plain": [
       "[<matplotlib.lines.Line2D at 0x275913aea60>]"
      ]
     },
     "execution_count": 35,
     "metadata": {},
     "output_type": "execute_result"
    },
    {
     "data": {
      "image/png": "[encoded data removed]",
      "text/plain": [
       "<Figure size 432x288 with 1 Axes>"
      ]
     },
     "metadata": {
      "needs_background": "light"
     },
     "output_type": "display_data"
    }
   ],
   "source": [
    "plt.plot(df3)"
   ]
  }
 ],
 "metadata": {
  "kernelspec": {
   "display_name": "Python 3",
   "language": "python",
   "name": "python3"
  },
  "language_info": {
   "codemirror_mode": {
    "name": "ipython",
    "version": 3
   },
   "file_extension": ".py",
   "mimetype": "text/x-python",
   "name": "python",
   "nbconvert_exporter": "python",
   "pygments_lexer": "ipython3",
   "version": "3.8.8"
  }
 },
 "nbformat": 4,
 "nbformat_minor": 5
}
