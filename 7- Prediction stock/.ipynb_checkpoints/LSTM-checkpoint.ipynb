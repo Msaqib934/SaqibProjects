{
 "cells": [
  {
   "cell_type": "code",
   "execution_count": 1,
   "id": "433ed512",
   "metadata": {},
   "outputs": [],
   "source": [
    "import tensorflow as tf\n",
    "import pandas as pd\n",
    "import numpy as np\n",
    "import pandas_datareader as pdr\n",
    "import matplotlib.pyplot as plt\n",
    "from sklearn.preprocessing import MinMaxScaler\n",
    "from sklearn.model_selection import TimeSeriesSplit"
   ]
  },
  {
   "cell_type": "code",
   "execution_count": 2,
   "id": "7f50a98e",
   "metadata": {},
   "outputs": [],
   "source": [
    "df1 = pd.read_excel('ready.xlsx')"
   ]
  },
  {
   "cell_type": "code",
   "execution_count": 5,
   "id": "79a1db12",
   "metadata": {},
   "outputs": [
    {
     "data": {
      "text/html": [
       "<div>\n",
       "<style scoped>\n",
       "    .dataframe tbody tr th:only-of-type {\n",
       "        vertical-align: middle;\n",
       "    }\n",
       "\n",
       "    .dataframe tbody tr th {\n",
       "        vertical-align: top;\n",
       "    }\n",
       "\n",
       "    .dataframe thead th {\n",
       "        text-align: right;\n",
       "    }\n",
       "</style>\n",
       "<table border=\"1\" class=\"dataframe\">\n",
       "  <thead>\n",
       "    <tr style=\"text-align: right;\">\n",
       "      <th></th>\n",
       "      <th>Date</th>\n",
       "      <th>Net Value</th>\n",
       "    </tr>\n",
       "  </thead>\n",
       "  <tbody>\n",
       "    <tr>\n",
       "      <th>0</th>\n",
       "      <td>2019-04-01</td>\n",
       "      <td>11487893.35</td>\n",
       "    </tr>\n",
       "    <tr>\n",
       "      <th>1</th>\n",
       "      <td>2019-04-02</td>\n",
       "      <td>9567508.93</td>\n",
       "    </tr>\n",
       "    <tr>\n",
       "      <th>2</th>\n",
       "      <td>2019-04-03</td>\n",
       "      <td>26359676.20</td>\n",
       "    </tr>\n",
       "    <tr>\n",
       "      <th>3</th>\n",
       "      <td>2019-04-04</td>\n",
       "      <td>23734777.87</td>\n",
       "    </tr>\n",
       "    <tr>\n",
       "      <th>4</th>\n",
       "      <td>2019-04-05</td>\n",
       "      <td>24207945.14</td>\n",
       "    </tr>\n",
       "  </tbody>\n",
       "</table>\n",
       "</div>"
      ],
      "text/plain": [
       "        Date    Net Value\n",
       "0 2019-04-01  11487893.35\n",
       "1 2019-04-02   9567508.93\n",
       "2 2019-04-03  26359676.20\n",
       "3 2019-04-04  23734777.87\n",
       "4 2019-04-05  24207945.14"
      ]
     },
     "execution_count": 5,
     "metadata": {},
     "output_type": "execute_result"
    }
   ],
   "source": [
    "df1.head()"
   ]
  },
  {
   "cell_type": "code",
   "execution_count": 6,
   "id": "7313b98e",
   "metadata": {},
   "outputs": [
    {
     "data": {
      "text/plain": [
       "(271,)"
      ]
     },
     "execution_count": 6,
     "metadata": {},
     "output_type": "execute_result"
    }
   ],
   "source": [
    "df1 = df1.reset_index()['Net Value']\n",
    "df1.shape"
   ]
  },
  {
   "cell_type": "code",
   "execution_count": 7,
   "id": "a294f6e9",
   "metadata": {},
   "outputs": [
    {
     "data": {
      "text/plain": [
       "[<matplotlib.lines.Line2D at 0x19788f2b2e0>]"
      ]
     },
     "execution_count": 7,
     "metadata": {},
     "output_type": "execute_result"
    },
    {
     "data": {
      "image/png": "[encoded data removed]",
      "text/plain": [
       "<Figure size 432x288 with 1 Axes>"
      ]
     },
     "metadata": {
      "needs_background": "light"
     },
     "output_type": "display_data"
    }
   ],
   "source": [
    "plt.plot(df1)"
   ]
  },
  {
   "cell_type": "code",
   "execution_count": 9,
   "id": "e13bd757",
   "metadata": {},
   "outputs": [],
   "source": [
    "scaler = MinMaxScaler(feature_range=(0,1))\n",
    "df1 = scaler.fit_transform(np.array(df1).reshape(-1,1))"
   ]
  },
  {
   "cell_type": "code",
   "execution_count": 10,
   "id": "deb33f86",
   "metadata": {},
   "outputs": [],
   "source": [
    "training_size=int(len(df1)*0.65)\n",
    "test_size=len(df1)-training_size\n",
    "train_data,test_data=df1[0:training_size],df1[training_size:len(df1)]"
   ]
  },
  {
   "cell_type": "code",
   "execution_count": 11,
   "id": "66f78ef5",
   "metadata": {},
   "outputs": [
    {
     "data": {
      "text/plain": [
       "176"
      ]
     },
     "execution_count": 11,
     "metadata": {},
     "output_type": "execute_result"
    }
   ],
   "source": [
    "len(train_data)"
   ]
  },
  {
   "cell_type": "code",
   "execution_count": 12,
   "id": "3b9ab833",
   "metadata": {},
   "outputs": [
    {
     "data": {
      "text/plain": [
       "95"
      ]
     },
     "execution_count": 12,
     "metadata": {},
     "output_type": "execute_result"
    }
   ],
   "source": [
    "len(test_data)"
   ]
  },
  {
   "cell_type": "code",
   "execution_count": 13,
   "id": "6ec6cd41",
   "metadata": {},
   "outputs": [],
   "source": [
    "# convert an array of values into a dataset matrix\n",
    "def create_dataset(dataset, time_step=1):\n",
    "    dataX, dataY = [], []\n",
    "    for i in range(len(dataset)-time_step-1):\n",
    "        a = dataset[i:(i+time_step), 0]   ###i=0, 0,1,2,3-----99   100 \n",
    "        dataX.append(a)\n",
    "        dataY.append(dataset[i + time_step, 0])\n",
    "    return np.array(dataX), np.array(dataY)"
   ]
  },
  {
   "cell_type": "code",
   "execution_count": 14,
   "id": "f48676a6",
   "metadata": {},
   "outputs": [],
   "source": [
    "# reshape into X=t,t+1,t+2,t+3 and Y=t+4\n",
    "time_step = 50\n",
    "X_train, y_train = create_dataset(train_data, time_step)\n",
    "X_test, ytest = create_dataset(test_data, time_step)"
   ]
  },
  {
   "cell_type": "code",
   "execution_count": 15,
   "id": "aa407566",
   "metadata": {},
   "outputs": [
    {
     "name": "stdout",
     "output_type": "stream",
     "text": [
      "(125, 50)\n",
      "(125,)\n",
      "(44, 50)\n",
      "(44,)\n"
     ]
    },
    {
     "data": {
      "text/plain": [
       "(None, None)"
      ]
     },
     "execution_count": 15,
     "metadata": {},
     "output_type": "execute_result"
    }
   ],
   "source": [
    "print(X_train.shape), print(y_train.shape)\n",
    "print(X_test.shape), print(ytest.shape)"
   ]
  },
  {
   "cell_type": "code",
   "execution_count": 16,
   "id": "e8fdda54",
   "metadata": {},
   "outputs": [],
   "source": [
    "# reshape input to be [samples, time steps, features] which is required for LSTM (3dimension)\n",
    "X_train =X_train.reshape(X_train.shape[0],X_train.shape[1] , 1) \n",
    "X_test = X_test.reshape(X_test.shape[0],X_test.shape[1] , 1)"
   ]
  },
  {
   "cell_type": "code",
   "execution_count": 17,
   "id": "5e4be54e",
   "metadata": {},
   "outputs": [],
   "source": [
    "### Create the Stacked LSTM model\n",
    "from tensorflow.keras.models import Sequential\n",
    "from tensorflow.keras.layers import Dense\n",
    "from tensorflow.keras.layers import LSTM\n",
    "from keras.callbacks import EarlyStopping"
   ]
  },
  {
   "cell_type": "code",
   "execution_count": 18,
   "id": "f444fd0f",
   "metadata": {},
   "outputs": [],
   "source": [
    "model=Sequential()\n",
    "model.add(LSTM(30,return_sequences=True,input_shape=(50,1)))\n",
    "#model.add(LSTM(100,return_sequences=True))\n",
    "model.add(LSTM(10))\n",
    "model.add(Dense(1))\n",
    "model.compile(loss='mean_squared_error',optimizer='adam')"
   ]
  },
  {
   "cell_type": "code",
   "execution_count": 19,
   "id": "93164c3e",
   "metadata": {},
   "outputs": [
    {
     "name": "stdout",
     "output_type": "stream",
     "text": [
      "Model: \"sequential\"\n",
      "_________________________________________________________________\n",
      " Layer (type)                Output Shape              Param #   \n",
      "=================================================================\n",
      " lstm (LSTM)                 (None, 50, 30)            3840      \n",
      "                                                                 \n",
      " lstm_1 (LSTM)               (None, 10)                1640      \n",
      "                                                                 \n",
      " dense (Dense)               (None, 1)                 11        \n",
      "                                                                 \n",
      "=================================================================\n",
      "Total params: 5,491\n",
      "Trainable params: 5,491\n",
      "Non-trainable params: 0\n",
      "_________________________________________________________________\n",
      "None\n"
     ]
    }
   ],
   "source": [
    "print(model.summary())"
   ]
  },
  {
   "cell_type": "code",
   "execution_count": 20,
   "id": "2ba6b53e",
   "metadata": {},
   "outputs": [
    {
     "name": "stdout",
     "output_type": "stream",
     "text": [
      "Epoch 1/30\n",
      "3/3 [==============================] - 5s 572ms/step - loss: 0.0502 - val_loss: 0.0470\n",
      "Epoch 2/30\n",
      "3/3 [==============================] - 0s 58ms/step - loss: 0.0356 - val_loss: 0.0336\n",
      "Epoch 3/30\n",
      "3/3 [==============================] - 0s 57ms/step - loss: 0.0271 - val_loss: 0.0284\n",
      "Epoch 4/30\n",
      "3/3 [==============================] - 0s 57ms/step - loss: 0.0266 - val_loss: 0.0288\n",
      "Epoch 5/30\n",
      "3/3 [==============================] - 0s 57ms/step - loss: 0.0273 - val_loss: 0.0284\n",
      "Epoch 6/30\n",
      "3/3 [==============================] - 0s 56ms/step - loss: 0.0259 - val_loss: 0.0284\n",
      "Epoch 7/30\n",
      "3/3 [==============================] - 0s 57ms/step - loss: 0.0247 - val_loss: 0.0292\n",
      "Epoch 8/30\n",
      "3/3 [==============================] - 0s 58ms/step - loss: 0.0245 - val_loss: 0.0297\n",
      "Epoch 9/30\n",
      "3/3 [==============================] - 0s 59ms/step - loss: 0.0245 - val_loss: 0.0297\n",
      "Epoch 10/30\n",
      "3/3 [==============================] - 0s 70ms/step - loss: 0.0243 - val_loss: 0.0294\n",
      "Epoch 11/30\n",
      "3/3 [==============================] - 0s 61ms/step - loss: 0.0240 - val_loss: 0.0289\n",
      "Epoch 12/30\n",
      "3/3 [==============================] - 0s 60ms/step - loss: 0.0237 - val_loss: 0.0286\n",
      "Epoch 13/30\n",
      "3/3 [==============================] - 0s 61ms/step - loss: 0.0235 - val_loss: 0.0284\n",
      "Epoch 14/30\n",
      "3/3 [==============================] - 0s 58ms/step - loss: 0.0234 - val_loss: 0.0282\n",
      "Epoch 15/30\n",
      "3/3 [==============================] - 0s 76ms/step - loss: 0.0233 - val_loss: 0.0281\n",
      "Epoch 16/30\n",
      "3/3 [==============================] - 0s 80ms/step - loss: 0.0231 - val_loss: 0.0281\n",
      "Epoch 17/30\n",
      "3/3 [==============================] - 0s 70ms/step - loss: 0.0229 - val_loss: 0.0283\n",
      "Epoch 18/30\n",
      "3/3 [==============================] - 0s 69ms/step - loss: 0.0228 - val_loss: 0.0287\n",
      "Epoch 19/30\n",
      "3/3 [==============================] - 0s 69ms/step - loss: 0.0227 - val_loss: 0.0289\n",
      "Epoch 20/30\n",
      "3/3 [==============================] - ETA: 0s - loss: 0.022 - 0s 70ms/step - loss: 0.0226 - val_loss: 0.0289\n",
      "Epoch 21/30\n",
      "3/3 [==============================] - 0s 70ms/step - loss: 0.0225 - val_loss: 0.0285\n",
      "Epoch 22/30\n",
      "3/3 [==============================] - 0s 76ms/step - loss: 0.0222 - val_loss: 0.0283\n",
      "Epoch 23/30\n",
      "3/3 [==============================] - 0s 63ms/step - loss: 0.0220 - val_loss: 0.0281\n",
      "Epoch 24/30\n",
      "3/3 [==============================] - 0s 58ms/step - loss: 0.0220 - val_loss: 0.0281\n",
      "Epoch 25/30\n",
      "3/3 [==============================] - 0s 57ms/step - loss: 0.0217 - val_loss: 0.0282\n",
      "Epoch 26/30\n",
      "3/3 [==============================] - 0s 61ms/step - loss: 0.0216 - val_loss: 0.0283\n",
      "Epoch 27/30\n",
      "3/3 [==============================] - 0s 60ms/step - loss: 0.0214 - val_loss: 0.0285\n",
      "Epoch 28/30\n",
      "3/3 [==============================] - 0s 72ms/step - loss: 0.0213 - val_loss: 0.0283\n",
      "Epoch 29/30\n",
      "3/3 [==============================] - 0s 66ms/step - loss: 0.0210 - val_loss: 0.0284\n",
      "Epoch 30/30\n",
      "3/3 [==============================] - 0s 58ms/step - loss: 0.0209 - val_loss: 0.0284\n"
     ]
    }
   ],
   "source": [
    "early_stopping_monitor = EarlyStopping(monitor='loss',patience=3)\n",
    "history = model.fit(X_train,y_train,validation_data=(X_test,ytest),epochs=30,batch_size=50,verbose=1,callbacks=[early_stopping_monitor])"
   ]
  },
  {
   "cell_type": "code",
   "execution_count": 33,
   "id": "92fec4d3",
   "metadata": {},
   "outputs": [
    {
     "name": "stdout",
     "output_type": "stream",
     "text": [
      "dict_keys(['loss', 'val_loss'])\n"
     ]
    }
   ],
   "source": [
    "print(history.history.keys())"
   ]
  },
  {
   "cell_type": "code",
   "execution_count": null,
   "id": "5baae172",
   "metadata": {},
   "outputs": [],
   "source": [
    "from keras import backend as K\n",
    "import tensorflow.compat.v1 as tf\n",
    "\n",
    "curr_session = tf.get_default_session()\n",
    "# close current session\n",
    "if curr_session is not None:\n",
    "    curr_session.close()\n",
    "# reset graph\n",
    "K.clear_session()\n",
    "# create new session\n",
    "s = tf.InteractiveSession()\n",
    "K.set_session(s)"
   ]
  },
  {
   "cell_type": "code",
   "execution_count": 21,
   "id": "6818a32f",
   "metadata": {},
   "outputs": [
    {
     "data": {
      "image/png": "[encoded data removed]",
      "text/plain": [
       "<Figure size 432x288 with 1 Axes>"
      ]
     },
     "metadata": {
      "needs_background": "light"
     },
     "output_type": "display_data"
    }
   ],
   "source": [
    "# Plot train vs test accuracy per epoch\n",
    "plt.figure()\n",
    "# Use the history metrics\n",
    "plt.plot(history.history['loss'])\n",
    "plt.plot(history.history['val_loss'])\n",
    "# Make it pretty\n",
    "plt.title('Model Loss')\n",
    "plt.ylabel('Loss')\n",
    "plt.xlabel('Epoch')\n",
    "plt.legend(['Train', 'Test'])\n",
    "plt.show()"
   ]
  },
  {
   "cell_type": "code",
   "execution_count": 22,
   "id": "52a64537",
   "metadata": {},
   "outputs": [],
   "source": [
    "### Lets Do the prediction and check performance metrics\n",
    "train_predict=model.predict(X_train)\n",
    "test_predict=model.predict(X_test)"
   ]
  },
  {
   "cell_type": "code",
   "execution_count": 23,
   "id": "d2651b56",
   "metadata": {},
   "outputs": [],
   "source": [
    "##Transformback to original form\n",
    "train_predict=scaler.inverse_transform(train_predict)\n",
    "test_predict=scaler.inverse_transform(test_predict)"
   ]
  },
  {
   "cell_type": "code",
   "execution_count": 24,
   "id": "a54a19a8",
   "metadata": {},
   "outputs": [
    {
     "data": {
      "text/plain": [
       "0.14388195257718858"
      ]
     },
     "execution_count": 24,
     "metadata": {},
     "output_type": "execute_result"
    }
   ],
   "source": [
    "### Calculate RMSE performance metrics\n",
    "import math\n",
    "from sklearn.metrics import mean_squared_error\n",
    "math.sqrt(mean_squared_error(y_train,train_predict))"
   ]
  },
  {
   "cell_type": "code",
   "execution_count": 25,
   "id": "173f1a61",
   "metadata": {},
   "outputs": [
    {
     "data": {
      "text/plain": [
       "0.1686268873230785"
      ]
     },
     "execution_count": 25,
     "metadata": {},
     "output_type": "execute_result"
    }
   ],
   "source": [
    "### Test Data RMSE\n",
    "math.sqrt(mean_squared_error(ytest,test_predict))"
   ]
  },
  {
   "cell_type": "code",
   "execution_count": 26,
   "id": "86d07e3a",
   "metadata": {},
   "outputs": [
    {
     "data": {
      "image/png": "[encoded data removed]",
      "text/plain": [
       "<Figure size 432x288 with 1 Axes>"
      ]
     },
     "metadata": {
      "needs_background": "light"
     },
     "output_type": "display_data"
    }
   ],
   "source": [
    "### Plotting \n",
    "# shift train predictions for plotting\n",
    "look_back=50\n",
    "trainPredictPlot = np.empty_like(df1)\n",
    "trainPredictPlot[:, :] = np.nan\n",
    "trainPredictPlot[look_back:len(train_predict)+look_back, :] = train_predict\n",
    "# shift test predictions for plotting\n",
    "testPredictPlot = np.empty_like(df1)\n",
    "testPredictPlot[:, :] = np.nan\n",
    "testPredictPlot[len(train_predict)+(look_back*2)+1:len(df1)-1, :] = test_predict\n",
    "# plot baseline and predictions\n",
    "plt.plot(scaler.inverse_transform(df1))\n",
    "plt.plot(trainPredictPlot)\n",
    "plt.plot(testPredictPlot)\n",
    "plt.show()"
   ]
  },
  {
   "cell_type": "code",
   "execution_count": 27,
   "id": "a24fb0d6",
   "metadata": {},
   "outputs": [
    {
     "data": {
      "text/plain": [
       "95"
      ]
     },
     "execution_count": 27,
     "metadata": {},
     "output_type": "execute_result"
    }
   ],
   "source": [
    "len(test_data)"
   ]
  },
  {
   "cell_type": "code",
   "execution_count": 29,
   "id": "4e089e6c",
   "metadata": {},
   "outputs": [
    {
     "data": {
      "text/plain": [
       "(1, 50)"
      ]
     },
     "execution_count": 29,
     "metadata": {},
     "output_type": "execute_result"
    }
   ],
   "source": [
    "x_input=test_data[45:].reshape(1,-1)\n",
    "x_input.shape"
   ]
  },
  {
   "cell_type": "code",
   "execution_count": 30,
   "id": "f9357d46",
   "metadata": {},
   "outputs": [],
   "source": [
    "temp_input=list(x_input)\n",
    "temp_input=temp_input[0].tolist()"
   ]
  },
  {
   "cell_type": "code",
   "execution_count": 31,
   "id": "25ef63c5",
   "metadata": {},
   "outputs": [
    {
     "name": "stdout",
     "output_type": "stream",
     "text": [
      "[0.24386942]\n",
      "51\n",
      "1 day input [7.58532346e-02 6.39521181e-02 7.25150720e-02 8.32632933e-02\n",
      " 8.16481886e-02 8.31325076e-02 1.41871799e-01 6.29774984e-02\n",
      " 1.26705887e-01 1.12552203e-01 1.37852749e-01 1.07948711e-01\n",
      " 1.89979222e-01 3.73223581e-03 1.79687566e-01 3.27634022e-01\n",
      " 3.91234384e-01 2.64350794e-01 1.34585116e-01 5.38009961e-02\n",
      " 1.95686958e-01 3.32833741e-01 3.09361135e-01 4.39040318e-01\n",
      " 9.25772929e-01 2.97818064e-02 2.94505182e-02 1.18902990e-01\n",
      " 7.74595440e-02 1.32180219e-01 9.59159124e-02 2.11647897e-01\n",
      " 1.43736020e-01 1.72048149e-01 1.67862677e-01 1.49108413e-01\n",
      " 2.46300615e-01 1.76063401e-01 2.34415682e-01 1.84377710e-01\n",
      " 2.17146924e-01 3.95291232e-02 1.69550776e-01 1.96973521e-01\n",
      " 3.65765388e-01 3.84466025e-01 5.38523628e-01 4.94989116e-01\n",
      " 1.44361596e-06 2.43869424e-01]\n",
      "1 day output [[0.24229991]]\n",
      "2 day input [6.39521181e-02 7.25150720e-02 8.32632933e-02 8.16481886e-02\n",
      " 8.31325076e-02 1.41871799e-01 6.29774984e-02 1.26705887e-01\n",
      " 1.12552203e-01 1.37852749e-01 1.07948711e-01 1.89979222e-01\n",
      " 3.73223581e-03 1.79687566e-01 3.27634022e-01 3.91234384e-01\n",
      " 2.64350794e-01 1.34585116e-01 5.38009961e-02 1.95686958e-01\n",
      " 3.32833741e-01 3.09361135e-01 4.39040318e-01 9.25772929e-01\n",
      " 2.97818064e-02 2.94505182e-02 1.18902990e-01 7.74595440e-02\n",
      " 1.32180219e-01 9.59159124e-02 2.11647897e-01 1.43736020e-01\n",
      " 1.72048149e-01 1.67862677e-01 1.49108413e-01 2.46300615e-01\n",
      " 1.76063401e-01 2.34415682e-01 1.84377710e-01 2.17146924e-01\n",
      " 3.95291232e-02 1.69550776e-01 1.96973521e-01 3.65765388e-01\n",
      " 3.84466025e-01 5.38523628e-01 4.94989116e-01 1.44361596e-06\n",
      " 2.43869424e-01 2.42299914e-01]\n",
      "2 day output [[0.23881738]]\n",
      "3 day input [7.25150720e-02 8.32632933e-02 8.16481886e-02 8.31325076e-02\n",
      " 1.41871799e-01 6.29774984e-02 1.26705887e-01 1.12552203e-01\n",
      " 1.37852749e-01 1.07948711e-01 1.89979222e-01 3.73223581e-03\n",
      " 1.79687566e-01 3.27634022e-01 3.91234384e-01 2.64350794e-01\n",
      " 1.34585116e-01 5.38009961e-02 1.95686958e-01 3.32833741e-01\n",
      " 3.09361135e-01 4.39040318e-01 9.25772929e-01 2.97818064e-02\n",
      " 2.94505182e-02 1.18902990e-01 7.74595440e-02 1.32180219e-01\n",
      " 9.59159124e-02 2.11647897e-01 1.43736020e-01 1.72048149e-01\n",
      " 1.67862677e-01 1.49108413e-01 2.46300615e-01 1.76063401e-01\n",
      " 2.34415682e-01 1.84377710e-01 2.17146924e-01 3.95291232e-02\n",
      " 1.69550776e-01 1.96973521e-01 3.65765388e-01 3.84466025e-01\n",
      " 5.38523628e-01 4.94989116e-01 1.44361596e-06 2.43869424e-01\n",
      " 2.42299914e-01 2.38817379e-01]\n",
      "3 day output [[0.23422061]]\n",
      "4 day input [8.32632933e-02 8.16481886e-02 8.31325076e-02 1.41871799e-01\n",
      " 6.29774984e-02 1.26705887e-01 1.12552203e-01 1.37852749e-01\n",
      " 1.07948711e-01 1.89979222e-01 3.73223581e-03 1.79687566e-01\n",
      " 3.27634022e-01 3.91234384e-01 2.64350794e-01 1.34585116e-01\n",
      " 5.38009961e-02 1.95686958e-01 3.32833741e-01 3.09361135e-01\n",
      " 4.39040318e-01 9.25772929e-01 2.97818064e-02 2.94505182e-02\n",
      " 1.18902990e-01 7.74595440e-02 1.32180219e-01 9.59159124e-02\n",
      " 2.11647897e-01 1.43736020e-01 1.72048149e-01 1.67862677e-01\n",
      " 1.49108413e-01 2.46300615e-01 1.76063401e-01 2.34415682e-01\n",
      " 1.84377710e-01 2.17146924e-01 3.95291232e-02 1.69550776e-01\n",
      " 1.96973521e-01 3.65765388e-01 3.84466025e-01 5.38523628e-01\n",
      " 4.94989116e-01 1.44361596e-06 2.43869424e-01 2.42299914e-01\n",
      " 2.38817379e-01 2.34220609e-01]\n",
      "4 day output [[0.22901858]]\n",
      "5 day input [8.16481886e-02 8.31325076e-02 1.41871799e-01 6.29774984e-02\n",
      " 1.26705887e-01 1.12552203e-01 1.37852749e-01 1.07948711e-01\n",
      " 1.89979222e-01 3.73223581e-03 1.79687566e-01 3.27634022e-01\n",
      " 3.91234384e-01 2.64350794e-01 1.34585116e-01 5.38009961e-02\n",
      " 1.95686958e-01 3.32833741e-01 3.09361135e-01 4.39040318e-01\n",
      " 9.25772929e-01 2.97818064e-02 2.94505182e-02 1.18902990e-01\n",
      " 7.74595440e-02 1.32180219e-01 9.59159124e-02 2.11647897e-01\n",
      " 1.43736020e-01 1.72048149e-01 1.67862677e-01 1.49108413e-01\n",
      " 2.46300615e-01 1.76063401e-01 2.34415682e-01 1.84377710e-01\n",
      " 2.17146924e-01 3.95291232e-02 1.69550776e-01 1.96973521e-01\n",
      " 3.65765388e-01 3.84466025e-01 5.38523628e-01 4.94989116e-01\n",
      " 1.44361596e-06 2.43869424e-01 2.42299914e-01 2.38817379e-01\n",
      " 2.34220609e-01 2.29018584e-01]\n",
      "5 day output [[0.22354962]]\n",
      "6 day input [8.31325076e-02 1.41871799e-01 6.29774984e-02 1.26705887e-01\n",
      " 1.12552203e-01 1.37852749e-01 1.07948711e-01 1.89979222e-01\n",
      " 3.73223581e-03 1.79687566e-01 3.27634022e-01 3.91234384e-01\n",
      " 2.64350794e-01 1.34585116e-01 5.38009961e-02 1.95686958e-01\n",
      " 3.32833741e-01 3.09361135e-01 4.39040318e-01 9.25772929e-01\n",
      " 2.97818064e-02 2.94505182e-02 1.18902990e-01 7.74595440e-02\n",
      " 1.32180219e-01 9.59159124e-02 2.11647897e-01 1.43736020e-01\n",
      " 1.72048149e-01 1.67862677e-01 1.49108413e-01 2.46300615e-01\n",
      " 1.76063401e-01 2.34415682e-01 1.84377710e-01 2.17146924e-01\n",
      " 3.95291232e-02 1.69550776e-01 1.96973521e-01 3.65765388e-01\n",
      " 3.84466025e-01 5.38523628e-01 4.94989116e-01 1.44361596e-06\n",
      " 2.43869424e-01 2.42299914e-01 2.38817379e-01 2.34220609e-01\n",
      " 2.29018584e-01 2.23549619e-01]\n",
      "6 day output [[0.21803856]]\n",
      "7 day input [1.41871799e-01 6.29774984e-02 1.26705887e-01 1.12552203e-01\n",
      " 1.37852749e-01 1.07948711e-01 1.89979222e-01 3.73223581e-03\n",
      " 1.79687566e-01 3.27634022e-01 3.91234384e-01 2.64350794e-01\n",
      " 1.34585116e-01 5.38009961e-02 1.95686958e-01 3.32833741e-01\n",
      " 3.09361135e-01 4.39040318e-01 9.25772929e-01 2.97818064e-02\n",
      " 2.94505182e-02 1.18902990e-01 7.74595440e-02 1.32180219e-01\n",
      " 9.59159124e-02 2.11647897e-01 1.43736020e-01 1.72048149e-01\n",
      " 1.67862677e-01 1.49108413e-01 2.46300615e-01 1.76063401e-01\n",
      " 2.34415682e-01 1.84377710e-01 2.17146924e-01 3.95291232e-02\n",
      " 1.69550776e-01 1.96973521e-01 3.65765388e-01 3.84466025e-01\n",
      " 5.38523628e-01 4.94989116e-01 1.44361596e-06 2.43869424e-01\n",
      " 2.42299914e-01 2.38817379e-01 2.34220609e-01 2.29018584e-01\n",
      " 2.23549619e-01 2.18038559e-01]\n",
      "7 day output [[0.21263793]]\n",
      "8 day input [6.29774984e-02 1.26705887e-01 1.12552203e-01 1.37852749e-01\n",
      " 1.07948711e-01 1.89979222e-01 3.73223581e-03 1.79687566e-01\n",
      " 3.27634022e-01 3.91234384e-01 2.64350794e-01 1.34585116e-01\n",
      " 5.38009961e-02 1.95686958e-01 3.32833741e-01 3.09361135e-01\n",
      " 4.39040318e-01 9.25772929e-01 2.97818064e-02 2.94505182e-02\n",
      " 1.18902990e-01 7.74595440e-02 1.32180219e-01 9.59159124e-02\n",
      " 2.11647897e-01 1.43736020e-01 1.72048149e-01 1.67862677e-01\n",
      " 1.49108413e-01 2.46300615e-01 1.76063401e-01 2.34415682e-01\n",
      " 1.84377710e-01 2.17146924e-01 3.95291232e-02 1.69550776e-01\n",
      " 1.96973521e-01 3.65765388e-01 3.84466025e-01 5.38523628e-01\n",
      " 4.94989116e-01 1.44361596e-06 2.43869424e-01 2.42299914e-01\n",
      " 2.38817379e-01 2.34220609e-01 2.29018584e-01 2.23549619e-01\n",
      " 2.18038559e-01 2.12637931e-01]\n",
      "8 day output [[0.2074565]]\n",
      "9 day input [1.26705887e-01 1.12552203e-01 1.37852749e-01 1.07948711e-01\n",
      " 1.89979222e-01 3.73223581e-03 1.79687566e-01 3.27634022e-01\n",
      " 3.91234384e-01 2.64350794e-01 1.34585116e-01 5.38009961e-02\n",
      " 1.95686958e-01 3.32833741e-01 3.09361135e-01 4.39040318e-01\n",
      " 9.25772929e-01 2.97818064e-02 2.94505182e-02 1.18902990e-01\n",
      " 7.74595440e-02 1.32180219e-01 9.59159124e-02 2.11647897e-01\n",
      " 1.43736020e-01 1.72048149e-01 1.67862677e-01 1.49108413e-01\n",
      " 2.46300615e-01 1.76063401e-01 2.34415682e-01 1.84377710e-01\n",
      " 2.17146924e-01 3.95291232e-02 1.69550776e-01 1.96973521e-01\n",
      " 3.65765388e-01 3.84466025e-01 5.38523628e-01 4.94989116e-01\n",
      " 1.44361596e-06 2.43869424e-01 2.42299914e-01 2.38817379e-01\n",
      " 2.34220609e-01 2.29018584e-01 2.23549619e-01 2.18038559e-01\n",
      " 2.12637931e-01 2.07456499e-01]\n",
      "9 day output [[0.20254378]]\n",
      "10 day input [1.12552203e-01 1.37852749e-01 1.07948711e-01 1.89979222e-01\n",
      " 3.73223581e-03 1.79687566e-01 3.27634022e-01 3.91234384e-01\n",
      " 2.64350794e-01 1.34585116e-01 5.38009961e-02 1.95686958e-01\n",
      " 3.32833741e-01 3.09361135e-01 4.39040318e-01 9.25772929e-01\n",
      " 2.97818064e-02 2.94505182e-02 1.18902990e-01 7.74595440e-02\n",
      " 1.32180219e-01 9.59159124e-02 2.11647897e-01 1.43736020e-01\n",
      " 1.72048149e-01 1.67862677e-01 1.49108413e-01 2.46300615e-01\n",
      " 1.76063401e-01 2.34415682e-01 1.84377710e-01 2.17146924e-01\n",
      " 3.95291232e-02 1.69550776e-01 1.96973521e-01 3.65765388e-01\n",
      " 3.84466025e-01 5.38523628e-01 4.94989116e-01 1.44361596e-06\n",
      " 2.43869424e-01 2.42299914e-01 2.38817379e-01 2.34220609e-01\n",
      " 2.29018584e-01 2.23549619e-01 2.18038559e-01 2.12637931e-01\n",
      " 2.07456499e-01 2.02543780e-01]\n",
      "10 day output [[0.1979616]]\n",
      "11 day input [1.37852749e-01 1.07948711e-01 1.89979222e-01 3.73223581e-03\n",
      " 1.79687566e-01 3.27634022e-01 3.91234384e-01 2.64350794e-01\n",
      " 1.34585116e-01 5.38009961e-02 1.95686958e-01 3.32833741e-01\n",
      " 3.09361135e-01 4.39040318e-01 9.25772929e-01 2.97818064e-02\n",
      " 2.94505182e-02 1.18902990e-01 7.74595440e-02 1.32180219e-01\n",
      " 9.59159124e-02 2.11647897e-01 1.43736020e-01 1.72048149e-01\n",
      " 1.67862677e-01 1.49108413e-01 2.46300615e-01 1.76063401e-01\n",
      " 2.34415682e-01 1.84377710e-01 2.17146924e-01 3.95291232e-02\n",
      " 1.69550776e-01 1.96973521e-01 3.65765388e-01 3.84466025e-01\n",
      " 5.38523628e-01 4.94989116e-01 1.44361596e-06 2.43869424e-01\n",
      " 2.42299914e-01 2.38817379e-01 2.34220609e-01 2.29018584e-01\n",
      " 2.23549619e-01 2.18038559e-01 2.12637931e-01 2.07456499e-01\n",
      " 2.02543780e-01 1.97961599e-01]\n",
      "11 day output [[0.19372523]]\n",
      "12 day input [1.07948711e-01 1.89979222e-01 3.73223581e-03 1.79687566e-01\n",
      " 3.27634022e-01 3.91234384e-01 2.64350794e-01 1.34585116e-01\n",
      " 5.38009961e-02 1.95686958e-01 3.32833741e-01 3.09361135e-01\n",
      " 4.39040318e-01 9.25772929e-01 2.97818064e-02 2.94505182e-02\n",
      " 1.18902990e-01 7.74595440e-02 1.32180219e-01 9.59159124e-02\n",
      " 2.11647897e-01 1.43736020e-01 1.72048149e-01 1.67862677e-01\n",
      " 1.49108413e-01 2.46300615e-01 1.76063401e-01 2.34415682e-01\n",
      " 1.84377710e-01 2.17146924e-01 3.95291232e-02 1.69550776e-01\n",
      " 1.96973521e-01 3.65765388e-01 3.84466025e-01 5.38523628e-01\n",
      " 4.94989116e-01 1.44361596e-06 2.43869424e-01 2.42299914e-01\n",
      " 2.38817379e-01 2.34220609e-01 2.29018584e-01 2.23549619e-01\n",
      " 2.18038559e-01 2.12637931e-01 2.07456499e-01 2.02543780e-01\n",
      " 1.97961599e-01 1.93725228e-01]\n",
      "12 day output [[0.18985341]]\n",
      "13 day input [1.89979222e-01 3.73223581e-03 1.79687566e-01 3.27634022e-01\n",
      " 3.91234384e-01 2.64350794e-01 1.34585116e-01 5.38009961e-02\n",
      " 1.95686958e-01 3.32833741e-01 3.09361135e-01 4.39040318e-01\n",
      " 9.25772929e-01 2.97818064e-02 2.94505182e-02 1.18902990e-01\n",
      " 7.74595440e-02 1.32180219e-01 9.59159124e-02 2.11647897e-01\n",
      " 1.43736020e-01 1.72048149e-01 1.67862677e-01 1.49108413e-01\n",
      " 2.46300615e-01 1.76063401e-01 2.34415682e-01 1.84377710e-01\n",
      " 2.17146924e-01 3.95291232e-02 1.69550776e-01 1.96973521e-01\n",
      " 3.65765388e-01 3.84466025e-01 5.38523628e-01 4.94989116e-01\n",
      " 1.44361596e-06 2.43869424e-01 2.42299914e-01 2.38817379e-01\n",
      " 2.34220609e-01 2.29018584e-01 2.23549619e-01 2.18038559e-01\n",
      " 2.12637931e-01 2.07456499e-01 2.02543780e-01 1.97961599e-01\n",
      " 1.93725228e-01 1.89853415e-01]\n"
     ]
    },
    {
     "name": "stdout",
     "output_type": "stream",
     "text": [
      "13 day output [[0.18634325]]\n",
      "14 day input [3.73223581e-03 1.79687566e-01 3.27634022e-01 3.91234384e-01\n",
      " 2.64350794e-01 1.34585116e-01 5.38009961e-02 1.95686958e-01\n",
      " 3.32833741e-01 3.09361135e-01 4.39040318e-01 9.25772929e-01\n",
      " 2.97818064e-02 2.94505182e-02 1.18902990e-01 7.74595440e-02\n",
      " 1.32180219e-01 9.59159124e-02 2.11647897e-01 1.43736020e-01\n",
      " 1.72048149e-01 1.67862677e-01 1.49108413e-01 2.46300615e-01\n",
      " 1.76063401e-01 2.34415682e-01 1.84377710e-01 2.17146924e-01\n",
      " 3.95291232e-02 1.69550776e-01 1.96973521e-01 3.65765388e-01\n",
      " 3.84466025e-01 5.38523628e-01 4.94989116e-01 1.44361596e-06\n",
      " 2.43869424e-01 2.42299914e-01 2.38817379e-01 2.34220609e-01\n",
      " 2.29018584e-01 2.23549619e-01 2.18038559e-01 2.12637931e-01\n",
      " 2.07456499e-01 2.02543780e-01 1.97961599e-01 1.93725228e-01\n",
      " 1.89853415e-01 1.86343253e-01]\n",
      "14 day output [[0.18320636]]\n",
      "15 day input [1.79687566e-01 3.27634022e-01 3.91234384e-01 2.64350794e-01\n",
      " 1.34585116e-01 5.38009961e-02 1.95686958e-01 3.32833741e-01\n",
      " 3.09361135e-01 4.39040318e-01 9.25772929e-01 2.97818064e-02\n",
      " 2.94505182e-02 1.18902990e-01 7.74595440e-02 1.32180219e-01\n",
      " 9.59159124e-02 2.11647897e-01 1.43736020e-01 1.72048149e-01\n",
      " 1.67862677e-01 1.49108413e-01 2.46300615e-01 1.76063401e-01\n",
      " 2.34415682e-01 1.84377710e-01 2.17146924e-01 3.95291232e-02\n",
      " 1.69550776e-01 1.96973521e-01 3.65765388e-01 3.84466025e-01\n",
      " 5.38523628e-01 4.94989116e-01 1.44361596e-06 2.43869424e-01\n",
      " 2.42299914e-01 2.38817379e-01 2.34220609e-01 2.29018584e-01\n",
      " 2.23549619e-01 2.18038559e-01 2.12637931e-01 2.07456499e-01\n",
      " 2.02543780e-01 1.97961599e-01 1.93725228e-01 1.89853415e-01\n",
      " 1.86343253e-01 1.83206365e-01]\n",
      "15 day output [[0.18040127]]\n",
      "16 day input [3.27634022e-01 3.91234384e-01 2.64350794e-01 1.34585116e-01\n",
      " 5.38009961e-02 1.95686958e-01 3.32833741e-01 3.09361135e-01\n",
      " 4.39040318e-01 9.25772929e-01 2.97818064e-02 2.94505182e-02\n",
      " 1.18902990e-01 7.74595440e-02 1.32180219e-01 9.59159124e-02\n",
      " 2.11647897e-01 1.43736020e-01 1.72048149e-01 1.67862677e-01\n",
      " 1.49108413e-01 2.46300615e-01 1.76063401e-01 2.34415682e-01\n",
      " 1.84377710e-01 2.17146924e-01 3.95291232e-02 1.69550776e-01\n",
      " 1.96973521e-01 3.65765388e-01 3.84466025e-01 5.38523628e-01\n",
      " 4.94989116e-01 1.44361596e-06 2.43869424e-01 2.42299914e-01\n",
      " 2.38817379e-01 2.34220609e-01 2.29018584e-01 2.23549619e-01\n",
      " 2.18038559e-01 2.12637931e-01 2.07456499e-01 2.02543780e-01\n",
      " 1.97961599e-01 1.93725228e-01 1.89853415e-01 1.86343253e-01\n",
      " 1.83206365e-01 1.80401266e-01]\n",
      "16 day output [[0.17796272]]\n",
      "17 day input [3.91234384e-01 2.64350794e-01 1.34585116e-01 5.38009961e-02\n",
      " 1.95686958e-01 3.32833741e-01 3.09361135e-01 4.39040318e-01\n",
      " 9.25772929e-01 2.97818064e-02 2.94505182e-02 1.18902990e-01\n",
      " 7.74595440e-02 1.32180219e-01 9.59159124e-02 2.11647897e-01\n",
      " 1.43736020e-01 1.72048149e-01 1.67862677e-01 1.49108413e-01\n",
      " 2.46300615e-01 1.76063401e-01 2.34415682e-01 1.84377710e-01\n",
      " 2.17146924e-01 3.95291232e-02 1.69550776e-01 1.96973521e-01\n",
      " 3.65765388e-01 3.84466025e-01 5.38523628e-01 4.94989116e-01\n",
      " 1.44361596e-06 2.43869424e-01 2.42299914e-01 2.38817379e-01\n",
      " 2.34220609e-01 2.29018584e-01 2.23549619e-01 2.18038559e-01\n",
      " 2.12637931e-01 2.07456499e-01 2.02543780e-01 1.97961599e-01\n",
      " 1.93725228e-01 1.89853415e-01 1.86343253e-01 1.83206365e-01\n",
      " 1.80401266e-01 1.77962720e-01]\n",
      "17 day output [[0.17586957]]\n",
      "18 day input [2.64350794e-01 1.34585116e-01 5.38009961e-02 1.95686958e-01\n",
      " 3.32833741e-01 3.09361135e-01 4.39040318e-01 9.25772929e-01\n",
      " 2.97818064e-02 2.94505182e-02 1.18902990e-01 7.74595440e-02\n",
      " 1.32180219e-01 9.59159124e-02 2.11647897e-01 1.43736020e-01\n",
      " 1.72048149e-01 1.67862677e-01 1.49108413e-01 2.46300615e-01\n",
      " 1.76063401e-01 2.34415682e-01 1.84377710e-01 2.17146924e-01\n",
      " 3.95291232e-02 1.69550776e-01 1.96973521e-01 3.65765388e-01\n",
      " 3.84466025e-01 5.38523628e-01 4.94989116e-01 1.44361596e-06\n",
      " 2.43869424e-01 2.42299914e-01 2.38817379e-01 2.34220609e-01\n",
      " 2.29018584e-01 2.23549619e-01 2.18038559e-01 2.12637931e-01\n",
      " 2.07456499e-01 2.02543780e-01 1.97961599e-01 1.93725228e-01\n",
      " 1.89853415e-01 1.86343253e-01 1.83206365e-01 1.80401266e-01\n",
      " 1.77962720e-01 1.75869569e-01]\n",
      "18 day output [[0.17409353]]\n",
      "19 day input [1.34585116e-01 5.38009961e-02 1.95686958e-01 3.32833741e-01\n",
      " 3.09361135e-01 4.39040318e-01 9.25772929e-01 2.97818064e-02\n",
      " 2.94505182e-02 1.18902990e-01 7.74595440e-02 1.32180219e-01\n",
      " 9.59159124e-02 2.11647897e-01 1.43736020e-01 1.72048149e-01\n",
      " 1.67862677e-01 1.49108413e-01 2.46300615e-01 1.76063401e-01\n",
      " 2.34415682e-01 1.84377710e-01 2.17146924e-01 3.95291232e-02\n",
      " 1.69550776e-01 1.96973521e-01 3.65765388e-01 3.84466025e-01\n",
      " 5.38523628e-01 4.94989116e-01 1.44361596e-06 2.43869424e-01\n",
      " 2.42299914e-01 2.38817379e-01 2.34220609e-01 2.29018584e-01\n",
      " 2.23549619e-01 2.18038559e-01 2.12637931e-01 2.07456499e-01\n",
      " 2.02543780e-01 1.97961599e-01 1.93725228e-01 1.89853415e-01\n",
      " 1.86343253e-01 1.83206365e-01 1.80401266e-01 1.77962720e-01\n",
      " 1.75869569e-01 1.74093530e-01]\n",
      "19 day output [[0.17259338]]\n",
      "20 day input [5.38009961e-02 1.95686958e-01 3.32833741e-01 3.09361135e-01\n",
      " 4.39040318e-01 9.25772929e-01 2.97818064e-02 2.94505182e-02\n",
      " 1.18902990e-01 7.74595440e-02 1.32180219e-01 9.59159124e-02\n",
      " 2.11647897e-01 1.43736020e-01 1.72048149e-01 1.67862677e-01\n",
      " 1.49108413e-01 2.46300615e-01 1.76063401e-01 2.34415682e-01\n",
      " 1.84377710e-01 2.17146924e-01 3.95291232e-02 1.69550776e-01\n",
      " 1.96973521e-01 3.65765388e-01 3.84466025e-01 5.38523628e-01\n",
      " 4.94989116e-01 1.44361596e-06 2.43869424e-01 2.42299914e-01\n",
      " 2.38817379e-01 2.34220609e-01 2.29018584e-01 2.23549619e-01\n",
      " 2.18038559e-01 2.12637931e-01 2.07456499e-01 2.02543780e-01\n",
      " 1.97961599e-01 1.93725228e-01 1.89853415e-01 1.86343253e-01\n",
      " 1.83206365e-01 1.80401266e-01 1.77962720e-01 1.75869569e-01\n",
      " 1.74093530e-01 1.72593385e-01]\n",
      "20 day output [[0.17135127]]\n",
      "21 day input [1.95686958e-01 3.32833741e-01 3.09361135e-01 4.39040318e-01\n",
      " 9.25772929e-01 2.97818064e-02 2.94505182e-02 1.18902990e-01\n",
      " 7.74595440e-02 1.32180219e-01 9.59159124e-02 2.11647897e-01\n",
      " 1.43736020e-01 1.72048149e-01 1.67862677e-01 1.49108413e-01\n",
      " 2.46300615e-01 1.76063401e-01 2.34415682e-01 1.84377710e-01\n",
      " 2.17146924e-01 3.95291232e-02 1.69550776e-01 1.96973521e-01\n",
      " 3.65765388e-01 3.84466025e-01 5.38523628e-01 4.94989116e-01\n",
      " 1.44361596e-06 2.43869424e-01 2.42299914e-01 2.38817379e-01\n",
      " 2.34220609e-01 2.29018584e-01 2.23549619e-01 2.18038559e-01\n",
      " 2.12637931e-01 2.07456499e-01 2.02543780e-01 1.97961599e-01\n",
      " 1.93725228e-01 1.89853415e-01 1.86343253e-01 1.83206365e-01\n",
      " 1.80401266e-01 1.77962720e-01 1.75869569e-01 1.74093530e-01\n",
      " 1.72593385e-01 1.71351269e-01]\n",
      "21 day output [[0.17035417]]\n",
      "22 day input [3.32833741e-01 3.09361135e-01 4.39040318e-01 9.25772929e-01\n",
      " 2.97818064e-02 2.94505182e-02 1.18902990e-01 7.74595440e-02\n",
      " 1.32180219e-01 9.59159124e-02 2.11647897e-01 1.43736020e-01\n",
      " 1.72048149e-01 1.67862677e-01 1.49108413e-01 2.46300615e-01\n",
      " 1.76063401e-01 2.34415682e-01 1.84377710e-01 2.17146924e-01\n",
      " 3.95291232e-02 1.69550776e-01 1.96973521e-01 3.65765388e-01\n",
      " 3.84466025e-01 5.38523628e-01 4.94989116e-01 1.44361596e-06\n",
      " 2.43869424e-01 2.42299914e-01 2.38817379e-01 2.34220609e-01\n",
      " 2.29018584e-01 2.23549619e-01 2.18038559e-01 2.12637931e-01\n",
      " 2.07456499e-01 2.02543780e-01 1.97961599e-01 1.93725228e-01\n",
      " 1.89853415e-01 1.86343253e-01 1.83206365e-01 1.80401266e-01\n",
      " 1.77962720e-01 1.75869569e-01 1.74093530e-01 1.72593385e-01\n",
      " 1.71351269e-01 1.70354173e-01]\n",
      "22 day output [[0.16960849]]\n",
      "23 day input [3.09361135e-01 4.39040318e-01 9.25772929e-01 2.97818064e-02\n",
      " 2.94505182e-02 1.18902990e-01 7.74595440e-02 1.32180219e-01\n",
      " 9.59159124e-02 2.11647897e-01 1.43736020e-01 1.72048149e-01\n",
      " 1.67862677e-01 1.49108413e-01 2.46300615e-01 1.76063401e-01\n",
      " 2.34415682e-01 1.84377710e-01 2.17146924e-01 3.95291232e-02\n",
      " 1.69550776e-01 1.96973521e-01 3.65765388e-01 3.84466025e-01\n",
      " 5.38523628e-01 4.94989116e-01 1.44361596e-06 2.43869424e-01\n",
      " 2.42299914e-01 2.38817379e-01 2.34220609e-01 2.29018584e-01\n",
      " 2.23549619e-01 2.18038559e-01 2.12637931e-01 2.07456499e-01\n",
      " 2.02543780e-01 1.97961599e-01 1.93725228e-01 1.89853415e-01\n",
      " 1.86343253e-01 1.83206365e-01 1.80401266e-01 1.77962720e-01\n",
      " 1.75869569e-01 1.74093530e-01 1.72593385e-01 1.71351269e-01\n",
      " 1.70354173e-01 1.69608489e-01]\n",
      "23 day output [[0.16909026]]\n",
      "24 day input [4.39040318e-01 9.25772929e-01 2.97818064e-02 2.94505182e-02\n",
      " 1.18902990e-01 7.74595440e-02 1.32180219e-01 9.59159124e-02\n",
      " 2.11647897e-01 1.43736020e-01 1.72048149e-01 1.67862677e-01\n",
      " 1.49108413e-01 2.46300615e-01 1.76063401e-01 2.34415682e-01\n",
      " 1.84377710e-01 2.17146924e-01 3.95291232e-02 1.69550776e-01\n",
      " 1.96973521e-01 3.65765388e-01 3.84466025e-01 5.38523628e-01\n",
      " 4.94989116e-01 1.44361596e-06 2.43869424e-01 2.42299914e-01\n",
      " 2.38817379e-01 2.34220609e-01 2.29018584e-01 2.23549619e-01\n",
      " 2.18038559e-01 2.12637931e-01 2.07456499e-01 2.02543780e-01\n",
      " 1.97961599e-01 1.93725228e-01 1.89853415e-01 1.86343253e-01\n",
      " 1.83206365e-01 1.80401266e-01 1.77962720e-01 1.75869569e-01\n",
      " 1.74093530e-01 1.72593385e-01 1.71351269e-01 1.70354173e-01\n",
      " 1.69608489e-01 1.69090256e-01]\n",
      "24 day output [[0.16875835]]\n",
      "25 day input [9.25772929e-01 2.97818064e-02 2.94505182e-02 1.18902990e-01\n",
      " 7.74595440e-02 1.32180219e-01 9.59159124e-02 2.11647897e-01\n",
      " 1.43736020e-01 1.72048149e-01 1.67862677e-01 1.49108413e-01\n",
      " 2.46300615e-01 1.76063401e-01 2.34415682e-01 1.84377710e-01\n",
      " 2.17146924e-01 3.95291232e-02 1.69550776e-01 1.96973521e-01\n",
      " 3.65765388e-01 3.84466025e-01 5.38523628e-01 4.94989116e-01\n",
      " 1.44361596e-06 2.43869424e-01 2.42299914e-01 2.38817379e-01\n",
      " 2.34220609e-01 2.29018584e-01 2.23549619e-01 2.18038559e-01\n",
      " 2.12637931e-01 2.07456499e-01 2.02543780e-01 1.97961599e-01\n",
      " 1.93725228e-01 1.89853415e-01 1.86343253e-01 1.83206365e-01\n",
      " 1.80401266e-01 1.77962720e-01 1.75869569e-01 1.74093530e-01\n",
      " 1.72593385e-01 1.71351269e-01 1.70354173e-01 1.69608489e-01\n",
      " 1.69090256e-01 1.68758348e-01]\n"
     ]
    },
    {
     "name": "stdout",
     "output_type": "stream",
     "text": [
      "25 day output [[0.16861215]]\n",
      "26 day input [2.97818064e-02 2.94505182e-02 1.18902990e-01 7.74595440e-02\n",
      " 1.32180219e-01 9.59159124e-02 2.11647897e-01 1.43736020e-01\n",
      " 1.72048149e-01 1.67862677e-01 1.49108413e-01 2.46300615e-01\n",
      " 1.76063401e-01 2.34415682e-01 1.84377710e-01 2.17146924e-01\n",
      " 3.95291232e-02 1.69550776e-01 1.96973521e-01 3.65765388e-01\n",
      " 3.84466025e-01 5.38523628e-01 4.94989116e-01 1.44361596e-06\n",
      " 2.43869424e-01 2.42299914e-01 2.38817379e-01 2.34220609e-01\n",
      " 2.29018584e-01 2.23549619e-01 2.18038559e-01 2.12637931e-01\n",
      " 2.07456499e-01 2.02543780e-01 1.97961599e-01 1.93725228e-01\n",
      " 1.89853415e-01 1.86343253e-01 1.83206365e-01 1.80401266e-01\n",
      " 1.77962720e-01 1.75869569e-01 1.74093530e-01 1.72593385e-01\n",
      " 1.71351269e-01 1.70354173e-01 1.69608489e-01 1.69090256e-01\n",
      " 1.68758348e-01 1.68612152e-01]\n",
      "26 day output [[0.16867392]]\n",
      "27 day input [2.94505182e-02 1.18902990e-01 7.74595440e-02 1.32180219e-01\n",
      " 9.59159124e-02 2.11647897e-01 1.43736020e-01 1.72048149e-01\n",
      " 1.67862677e-01 1.49108413e-01 2.46300615e-01 1.76063401e-01\n",
      " 2.34415682e-01 1.84377710e-01 2.17146924e-01 3.95291232e-02\n",
      " 1.69550776e-01 1.96973521e-01 3.65765388e-01 3.84466025e-01\n",
      " 5.38523628e-01 4.94989116e-01 1.44361596e-06 2.43869424e-01\n",
      " 2.42299914e-01 2.38817379e-01 2.34220609e-01 2.29018584e-01\n",
      " 2.23549619e-01 2.18038559e-01 2.12637931e-01 2.07456499e-01\n",
      " 2.02543780e-01 1.97961599e-01 1.93725228e-01 1.89853415e-01\n",
      " 1.86343253e-01 1.83206365e-01 1.80401266e-01 1.77962720e-01\n",
      " 1.75869569e-01 1.74093530e-01 1.72593385e-01 1.71351269e-01\n",
      " 1.70354173e-01 1.69608489e-01 1.69090256e-01 1.68758348e-01\n",
      " 1.68612152e-01 1.68673918e-01]\n",
      "27 day output [[0.16875271]]\n",
      "28 day input [1.18902990e-01 7.74595440e-02 1.32180219e-01 9.59159124e-02\n",
      " 2.11647897e-01 1.43736020e-01 1.72048149e-01 1.67862677e-01\n",
      " 1.49108413e-01 2.46300615e-01 1.76063401e-01 2.34415682e-01\n",
      " 1.84377710e-01 2.17146924e-01 3.95291232e-02 1.69550776e-01\n",
      " 1.96973521e-01 3.65765388e-01 3.84466025e-01 5.38523628e-01\n",
      " 4.94989116e-01 1.44361596e-06 2.43869424e-01 2.42299914e-01\n",
      " 2.38817379e-01 2.34220609e-01 2.29018584e-01 2.23549619e-01\n",
      " 2.18038559e-01 2.12637931e-01 2.07456499e-01 2.02543780e-01\n",
      " 1.97961599e-01 1.93725228e-01 1.89853415e-01 1.86343253e-01\n",
      " 1.83206365e-01 1.80401266e-01 1.77962720e-01 1.75869569e-01\n",
      " 1.74093530e-01 1.72593385e-01 1.71351269e-01 1.70354173e-01\n",
      " 1.69608489e-01 1.69090256e-01 1.68758348e-01 1.68612152e-01\n",
      " 1.68673918e-01 1.68752715e-01]\n",
      "28 day output [[0.16895272]]\n",
      "29 day input [7.74595440e-02 1.32180219e-01 9.59159124e-02 2.11647897e-01\n",
      " 1.43736020e-01 1.72048149e-01 1.67862677e-01 1.49108413e-01\n",
      " 2.46300615e-01 1.76063401e-01 2.34415682e-01 1.84377710e-01\n",
      " 2.17146924e-01 3.95291232e-02 1.69550776e-01 1.96973521e-01\n",
      " 3.65765388e-01 3.84466025e-01 5.38523628e-01 4.94989116e-01\n",
      " 1.44361596e-06 2.43869424e-01 2.42299914e-01 2.38817379e-01\n",
      " 2.34220609e-01 2.29018584e-01 2.23549619e-01 2.18038559e-01\n",
      " 2.12637931e-01 2.07456499e-01 2.02543780e-01 1.97961599e-01\n",
      " 1.93725228e-01 1.89853415e-01 1.86343253e-01 1.83206365e-01\n",
      " 1.80401266e-01 1.77962720e-01 1.75869569e-01 1.74093530e-01\n",
      " 1.72593385e-01 1.71351269e-01 1.70354173e-01 1.69608489e-01\n",
      " 1.69090256e-01 1.68758348e-01 1.68612152e-01 1.68673918e-01\n",
      " 1.68752715e-01 1.68952718e-01]\n",
      "29 day output [[0.1692652]]\n",
      "[[0.24386942386627197], [0.2422999143600464], [0.23881737887859344], [0.23422060906887054], [0.22901858389377594], [0.22354961931705475], [0.21803855895996094], [0.21263793110847473], [0.20745649933815002], [0.20254378020763397], [0.19796159863471985], [0.19372522830963135], [0.18985341489315033], [0.186343252658844], [0.18320636451244354], [0.1804012656211853], [0.17796272039413452], [0.17586956918239594], [0.17409352958202362], [0.1725933849811554], [0.17135126888751984], [0.17035417258739471], [0.1696084886789322], [0.16909025609493256], [0.1687583476305008], [0.16861215233802795], [0.16867391765117645], [0.16875271499156952], [0.16895271837711334], [0.16926519572734833]]\n"
     ]
    }
   ],
   "source": [
    "# demonstrate prediction for next 10 days\n",
    "from numpy import array\n",
    "\n",
    "lst_output=[]\n",
    "n_steps=50\n",
    "i=0\n",
    "while(i<30):\n",
    "    if(len(temp_input)>50):\n",
    "        #print(temp_input)\n",
    "        x_input=np.array(temp_input[1:])\n",
    "        print(\"{} day input {}\".format(i,x_input))\n",
    "        x_input=x_input.reshape(1,-1)\n",
    "        x_input = x_input.reshape((1, n_steps, 1))\n",
    "        #print(x_input)\n",
    "        yhat = model.predict(x_input, verbose=0)\n",
    "        print(\"{} day output {}\".format(i,yhat))\n",
    "        temp_input.extend(yhat[0].tolist())\n",
    "        temp_input=temp_input[1:]\n",
    "        #print(temp_input)\n",
    "        lst_output.extend(yhat.tolist())\n",
    "        i=i+1\n",
    "    else:\n",
    "        x_input = x_input.reshape((1, n_steps,1))\n",
    "        yhat = model.predict(x_input, verbose=0)\n",
    "        print(yhat[0])\n",
    "        temp_input.extend(yhat[0].tolist())\n",
    "        print(len(temp_input))\n",
    "        lst_output.extend(yhat.tolist())\n",
    "        i=i+1\n",
    "    \n",
    "\n",
    "print(lst_output)"
   ]
  },
  {
   "cell_type": "code",
   "execution_count": 32,
   "id": "24074fa8",
   "metadata": {},
   "outputs": [],
   "source": [
    "day_new=np.arange(1,51)\n",
    "day_pred=np.arange(51,81)"
   ]
  },
  {
   "cell_type": "code",
   "execution_count": 38,
   "id": "ffa0e146",
   "metadata": {},
   "outputs": [
    {
     "data": {
      "text/plain": [
       "221"
      ]
     },
     "execution_count": 38,
     "metadata": {},
     "output_type": "execute_result"
    }
   ],
   "source": [
    "len(df1)-50"
   ]
  },
  {
   "cell_type": "code",
   "execution_count": 40,
   "id": "4ee43a12",
   "metadata": {},
   "outputs": [
    {
     "data": {
      "text/plain": [
       "[<matplotlib.lines.Line2D at 0x197923e1ca0>]"
      ]
     },
     "execution_count": 40,
     "metadata": {},
     "output_type": "execute_result"
    },
    {
     "data": {
      "image/png": "[encoded data removed]",
      "text/plain": [
       "<Figure size 432x288 with 1 Axes>"
      ]
     },
     "metadata": {
      "needs_background": "light"
     },
     "output_type": "display_data"
    }
   ],
   "source": [
    "plt.plot(day_new,scaler.inverse_transform(df1[221:]))\n",
    "plt.plot(day_pred,scaler.inverse_transform(lst_output))"
   ]
  },
  {
   "cell_type": "code",
   "execution_count": 1,
   "id": "5946ae49",
   "metadata": {},
   "outputs": [
    {
     "ename": "NameError",
     "evalue": "name 'df1' is not defined",
     "output_type": "error",
     "traceback": [
      "\u001b[1;31m---------------------------------------------------------------------------\u001b[0m",
      "\u001b[1;31mNameError\u001b[0m                                 Traceback (most recent call last)",
      "\u001b[1;32m<ipython-input-1-1d9205298c1c>\u001b[0m in \u001b[0;36m<module>\u001b[1;34m\u001b[0m\n\u001b[1;32m----> 1\u001b[1;33m \u001b[0mdf3\u001b[0m\u001b[1;33m=\u001b[0m\u001b[0mdf1\u001b[0m\u001b[1;33m.\u001b[0m\u001b[0mtolist\u001b[0m\u001b[1;33m(\u001b[0m\u001b[1;33m)\u001b[0m\u001b[1;33m\u001b[0m\u001b[1;33m\u001b[0m\u001b[0m\n\u001b[0m\u001b[0;32m      2\u001b[0m \u001b[0mdf3\u001b[0m\u001b[1;33m.\u001b[0m\u001b[0mextend\u001b[0m\u001b[1;33m(\u001b[0m\u001b[0mlst_output\u001b[0m\u001b[1;33m)\u001b[0m\u001b[1;33m\u001b[0m\u001b[1;33m\u001b[0m\u001b[0m\n\u001b[0;32m      3\u001b[0m \u001b[0mplt\u001b[0m\u001b[1;33m.\u001b[0m\u001b[0mplot\u001b[0m\u001b[1;33m(\u001b[0m\u001b[0mdf3\u001b[0m\u001b[1;33m[\u001b[0m\u001b[1;36m100\u001b[0m\u001b[1;33m:\u001b[0m\u001b[1;33m]\u001b[0m\u001b[1;33m)\u001b[0m\u001b[1;33m\u001b[0m\u001b[1;33m\u001b[0m\u001b[0m\n",
      "\u001b[1;31mNameError\u001b[0m: name 'df1' is not defined"
     ]
    }
   ],
   "source": [
    "df3=df1.tolist()\n",
    "df3.extend(lst_output)\n",
    "plt.plot(df3[100:])"
   ]
  },
  {
   "cell_type": "code",
   "execution_count": 104,
   "id": "592cd01f",
   "metadata": {},
   "outputs": [],
   "source": [
    "df3=scaler.inverse_transform(df3).tolist()"
   ]
  },
  {
   "cell_type": "code",
   "execution_count": 105,
   "id": "1aa68aa8",
   "metadata": {},
   "outputs": [
    {
     "data": {
      "text/plain": [
       "[<matplotlib.lines.Line2D at 0x10846ad8b80>]"
      ]
     },
     "execution_count": 105,
     "metadata": {},
     "output_type": "execute_result"
    },
    {
     "data": {
      "image/png": "[encoded data removed]",
      "text/plain": [
       "<Figure size 432x288 with 1 Axes>"
      ]
     },
     "metadata": {
      "needs_background": "light"
     },
     "output_type": "display_data"
    }
   ],
   "source": [
    "plt.plot(df3)"
   ]
  }
 ],
 "metadata": {
  "kernelspec": {
   "display_name": "Python 3",
   "language": "python",
   "name": "python3"
  },
  "language_info": {
   "codemirror_mode": {
    "name": "ipython",
    "version": 3
   },
   "file_extension": ".py",
   "mimetype": "text/x-python",
   "name": "python",
   "nbconvert_exporter": "python",
   "pygments_lexer": "ipython3",
   "version": "3.8.8"
  }
 },
 "nbformat": 4,
 "nbformat_minor": 5
}
